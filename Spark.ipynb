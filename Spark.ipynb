{
 "cells": [
  {
   "cell_type": "code",
   "execution_count": 1,
   "metadata": {},
   "outputs": [],
   "source": [
    "from pathlib import Path\n",
    "import os\n",
    "import pandas as pd\n",
    "\n",
    "# Initiate findspark instance to run pyspark \n",
    "import findspark\n",
    "findspark.init()\n",
    "\n",
    "# Importing PySpark\n",
    "import pyspark \n",
    "\n",
    "# Create a spark session \n",
    "from pyspark.sql import SparkSession\n",
    "spark = SparkSession.builder.getOrCreate()"
   ]
  },
  {
   "cell_type": "code",
   "execution_count": 2,
   "metadata": {},
   "outputs": [
    {
     "data": {
      "text/plain": [
       "DataFrame[measuredAt: string, lastCalibrationDate: string, equipmentNumber: string, P_x_.Hou_OperatingCPCPump: string, P_x_.Hou_OperatingLastService: string, P_x_.Hou_OperatingRD: string, P_x_.Hou_OperatingRDPump: string, P_x_.Hou_OperatingTotal: string, P_x_.t_TemperaturePND1Set: string, P_x_.t_TemperatureSampleLineSet: string, P_x_.t_TemperatureVPRSet: string, P_x_CPCInletPressureLimit: string, P_x_PND1RelativePressure: string, P_x_PressureAbsolute: string, P_x_RDHeatingSwitch: string, P_x_VPRHeatingSwitch: string, P_x_mn_PNDBypassFlowMin: string, P_x_mx_SystemPressureMax: string, Y_c_DeviceName: string, Y_c_FirmwareVersion: string, Y_r_ChannelFlowCheckResult: string, Y_r_LeakCheckResult: string, Y_r_ResponseCheckResult: string, Y_y_.Hou_NextService: string, Y_y_.U_Voltage1AnalogControllerBoard: string, Y_y_.U_Voltage1AnalogInterfaceBoard: string, Y_y_.U_Voltage1ControllerBoard: string, Y_y_.U_Voltage2AnalogControllerBoard: string, Y_y_.U_Voltage2AnalogInterfaceBoard: string, Y_y_.U_Voltage2ControllerBoard: string, Y_y_.U_VoltageElectronicPowerSupply: string, Y_y_.U_VoltageHeatingRD: string, Y_y_.U_VoltageHetingLine: string, Y_y_.U_VoltageInterfaceBoard: string, Y_y_.U_VoltageMainElectronic: string, Y_y_.U_VoltagePump: string, Y_y_.U_VoltageStepMotor: string, Y_y_.U_VoltageValve: string, Y_y_.t_CPCTemperatureCabinet: string, Y_y_.t_CPCTemperatureOptic: string, Y_y_.t_CPCTemperatureSaturator: string, Y_y_.t_SampleGasTemperature: string, Y_y_.t_TemperatureElectronicBoard: string, Y_y_.t_TemperaturePND1: string, Y_y_.t_TemperatureSampleLine: string, Y_y_.t_TemperatureVPR: string, Y_y_CPCAmbientPressure: string, Y_y_CPCPressureFlowOrifice: string, Y_y_CPCPressureNozzle: string, Y_y_CPCPulseHeight: string, Y_y_CPCType: string, Y_y_FlowPND1: string, Y_y_PressureCPC: string, Y_y_PressurePND1: string, Y_y_RDDiskFrequency: string, Z_y_Error: string, Z_y_Status: string, Z_y_TransitionStatus: string]"
      ]
     },
     "metadata": {},
     "output_type": "display_data"
    }
   ],
   "source": [
    "final_489 = spark.read.parquet(\"E:/ADAD/merged_489/\")\n",
    "display(final_489)"
   ]
  },
  {
   "cell_type": "code",
   "execution_count": 3,
   "metadata": {},
   "outputs": [
    {
     "name": "stdout",
     "output_type": "stream",
     "text": [
      "root\n",
      " |-- measuredAt: string (nullable = true)\n",
      " |-- lastCalibrationDate: string (nullable = true)\n",
      " |-- equipmentNumber: string (nullable = true)\n",
      " |-- P_x_.Hou_OperatingCPCPump: string (nullable = true)\n",
      " |-- P_x_.Hou_OperatingLastService: string (nullable = true)\n",
      " |-- P_x_.Hou_OperatingRD: string (nullable = true)\n",
      " |-- P_x_.Hou_OperatingRDPump: string (nullable = true)\n",
      " |-- P_x_.Hou_OperatingTotal: string (nullable = true)\n",
      " |-- P_x_.t_TemperaturePND1Set: string (nullable = true)\n",
      " |-- P_x_.t_TemperatureSampleLineSet: string (nullable = true)\n",
      " |-- P_x_.t_TemperatureVPRSet: string (nullable = true)\n",
      " |-- P_x_CPCInletPressureLimit: string (nullable = true)\n",
      " |-- P_x_PND1RelativePressure: string (nullable = true)\n",
      " |-- P_x_PressureAbsolute: string (nullable = true)\n",
      " |-- P_x_RDHeatingSwitch: string (nullable = true)\n",
      " |-- P_x_VPRHeatingSwitch: string (nullable = true)\n",
      " |-- P_x_mn_PNDBypassFlowMin: string (nullable = true)\n",
      " |-- P_x_mx_SystemPressureMax: string (nullable = true)\n",
      " |-- Y_c_DeviceName: string (nullable = true)\n",
      " |-- Y_c_FirmwareVersion: string (nullable = true)\n",
      " |-- Y_r_ChannelFlowCheckResult: string (nullable = true)\n",
      " |-- Y_r_LeakCheckResult: string (nullable = true)\n",
      " |-- Y_r_ResponseCheckResult: string (nullable = true)\n",
      " |-- Y_y_.Hou_NextService: string (nullable = true)\n",
      " |-- Y_y_.U_Voltage1AnalogControllerBoard: string (nullable = true)\n",
      " |-- Y_y_.U_Voltage1AnalogInterfaceBoard: string (nullable = true)\n",
      " |-- Y_y_.U_Voltage1ControllerBoard: string (nullable = true)\n",
      " |-- Y_y_.U_Voltage2AnalogControllerBoard: string (nullable = true)\n",
      " |-- Y_y_.U_Voltage2AnalogInterfaceBoard: string (nullable = true)\n",
      " |-- Y_y_.U_Voltage2ControllerBoard: string (nullable = true)\n",
      " |-- Y_y_.U_VoltageElectronicPowerSupply: string (nullable = true)\n",
      " |-- Y_y_.U_VoltageHeatingRD: string (nullable = true)\n",
      " |-- Y_y_.U_VoltageHetingLine: string (nullable = true)\n",
      " |-- Y_y_.U_VoltageInterfaceBoard: string (nullable = true)\n",
      " |-- Y_y_.U_VoltageMainElectronic: string (nullable = true)\n",
      " |-- Y_y_.U_VoltagePump: string (nullable = true)\n",
      " |-- Y_y_.U_VoltageStepMotor: string (nullable = true)\n",
      " |-- Y_y_.U_VoltageValve: string (nullable = true)\n",
      " |-- Y_y_.t_CPCTemperatureCabinet: string (nullable = true)\n",
      " |-- Y_y_.t_CPCTemperatureOptic: string (nullable = true)\n",
      " |-- Y_y_.t_CPCTemperatureSaturator: string (nullable = true)\n",
      " |-- Y_y_.t_SampleGasTemperature: string (nullable = true)\n",
      " |-- Y_y_.t_TemperatureElectronicBoard: string (nullable = true)\n",
      " |-- Y_y_.t_TemperaturePND1: string (nullable = true)\n",
      " |-- Y_y_.t_TemperatureSampleLine: string (nullable = true)\n",
      " |-- Y_y_.t_TemperatureVPR: string (nullable = true)\n",
      " |-- Y_y_CPCAmbientPressure: string (nullable = true)\n",
      " |-- Y_y_CPCPressureFlowOrifice: string (nullable = true)\n",
      " |-- Y_y_CPCPressureNozzle: string (nullable = true)\n",
      " |-- Y_y_CPCPulseHeight: string (nullable = true)\n",
      " |-- Y_y_CPCType: string (nullable = true)\n",
      " |-- Y_y_FlowPND1: string (nullable = true)\n",
      " |-- Y_y_PressureCPC: string (nullable = true)\n",
      " |-- Y_y_PressurePND1: string (nullable = true)\n",
      " |-- Y_y_RDDiskFrequency: string (nullable = true)\n",
      " |-- Z_y_Error: string (nullable = true)\n",
      " |-- Z_y_Status: string (nullable = true)\n",
      " |-- Z_y_TransitionStatus: string (nullable = true)\n",
      "\n"
     ]
    }
   ],
   "source": [
    "final_489.printSchema()"
   ]
  },
  {
   "cell_type": "code",
   "execution_count": 4,
   "metadata": {},
   "outputs": [
    {
     "data": {
      "text/plain": [
       "50"
      ]
     },
     "execution_count": 4,
     "metadata": {},
     "output_type": "execute_result"
    }
   ],
   "source": [
    "final_489.select('Z_y_Error').distinct().count()"
   ]
  },
  {
   "cell_type": "code",
   "execution_count": 5,
   "metadata": {},
   "outputs": [
    {
     "name": "stdout",
     "output_type": "stream",
     "text": [
      "+-----------------------------------+-------+\n",
      "|Z_y_Error                          |count  |\n",
      "+-----------------------------------+-------+\n",
      "|11040|11038|11037                  |1      |\n",
      "|11040|21050|00084                  |1      |\n",
      "|20010|00084                        |1      |\n",
      "|21040|10012|11040|01356|01542      |1      |\n",
      "|11040|11087|00110|01061|01062|01237|1      |\n",
      "|11049|01237|01542                  |1      |\n",
      "|10012|11040|01237                  |1      |\n",
      "|11049|00084|01237                  |2      |\n",
      "|11040|11049|01237                  |2      |\n",
      "|20010|10012|11040|00084            |3      |\n",
      "|11040|11038                        |3      |\n",
      "|11040|01308|01542                  |4      |\n",
      "|21050|10012|11040|00084            |4      |\n",
      "|10012|11040|21050|00084            |4      |\n",
      "|21050|11040|00084                  |6      |\n",
      "|21050|10012|00084                  |7      |\n",
      "|21034|10012|11040|00084            |7      |\n",
      "|11040|00084                        |14     |\n",
      "|21050|00084|01237                  |24     |\n",
      "|11039                              |26     |\n",
      "|11038|11037                        |31     |\n",
      "|11038|11037|11039                  |32     |\n",
      "|21050|00084                        |34     |\n",
      "|10012|00084                        |39     |\n",
      "|11040|11038|11037|11039            |47     |\n",
      "|00084                              |59     |\n",
      "|10012|11040|00084                  |68     |\n",
      "|00084|01237                        |109    |\n",
      "|01237|01542                        |173    |\n",
      "|01308|01542                        |304    |\n",
      "|11040|01237                        |420    |\n",
      "|11040|11236                        |1697   |\n",
      "|10012|01542                        |1982   |\n",
      "|01542                              |2347   |\n",
      "|null                               |2764   |\n",
      "|11040|01542                        |3771   |\n",
      "|10012|11040|01542                  |4612   |\n",
      "|11040|11049                        |6732   |\n",
      "|01237|01308|01542                  |9637   |\n",
      "|10012|01237                        |13238  |\n",
      "|10012|11049                        |14816  |\n",
      "|10012|11040|11049                  |17400  |\n",
      "|11038                              |19354  |\n",
      "|11049                              |36169  |\n",
      "|11049|01237                        |41522  |\n",
      "|10012                              |475567 |\n",
      "|11040                              |835137 |\n",
      "|10012|11040                        |958097 |\n",
      "|01237                              |1073075|\n",
      "|null                               |1384318|\n",
      "+-----------------------------------+-------+\n",
      "\n"
     ]
    }
   ],
   "source": [
    "unique_errors=final_489.groupBy('Z_y_Error').count().orderBy(\"count\").show(60,truncate=False)"
   ]
  },
  {
   "cell_type": "code",
   "execution_count": 70,
   "metadata": {},
   "outputs": [],
   "source": [
    "final_489_f = final_489.filter(final_489.Z_y_Error.isNotNull())\n"
   ]
  },
  {
   "cell_type": "code",
   "execution_count": 71,
   "metadata": {},
   "outputs": [
    {
     "name": "stdout",
     "output_type": "stream",
     "text": [
      "+-----------------------------------+-------+\n",
      "|Z_y_Error                          |count  |\n",
      "+-----------------------------------+-------+\n",
      "|10012|11040|01237                  |1      |\n",
      "|21040|10012|11040|01356|01542      |1      |\n",
      "|20010|00084                        |1      |\n",
      "|11040|21050|00084                  |1      |\n",
      "|11040|11087|00110|01061|01062|01237|1      |\n",
      "|11049|01237|01542                  |1      |\n",
      "|11040|11038|11037                  |1      |\n",
      "|11049|00084|01237                  |2      |\n",
      "|11040|11049|01237                  |2      |\n",
      "|20010|10012|11040|00084            |3      |\n",
      "|11040|11038                        |3      |\n",
      "|11040|01308|01542                  |4      |\n",
      "|10012|11040|21050|00084            |4      |\n",
      "|21050|10012|11040|00084            |4      |\n",
      "|21050|11040|00084                  |6      |\n",
      "|21050|10012|00084                  |7      |\n",
      "|21034|10012|11040|00084            |7      |\n",
      "|11040|00084                        |14     |\n",
      "|21050|00084|01237                  |24     |\n",
      "|11039                              |26     |\n",
      "|11038|11037                        |31     |\n",
      "|11038|11037|11039                  |32     |\n",
      "|21050|00084                        |34     |\n",
      "|10012|00084                        |39     |\n",
      "|11040|11038|11037|11039            |47     |\n",
      "|00084                              |59     |\n",
      "|10012|11040|00084                  |68     |\n",
      "|00084|01237                        |109    |\n",
      "|01237|01542                        |173    |\n",
      "|01308|01542                        |304    |\n",
      "|11040|01237                        |420    |\n",
      "|11040|11236                        |1697   |\n",
      "|10012|01542                        |1982   |\n",
      "|01542                              |2347   |\n",
      "|11040|01542                        |3771   |\n",
      "|10012|11040|01542                  |4612   |\n",
      "|11040|11049                        |6732   |\n",
      "|01237|01308|01542                  |9637   |\n",
      "|10012|01237                        |13238  |\n",
      "|10012|11049                        |14816  |\n",
      "|10012|11040|11049                  |17400  |\n",
      "|11038                              |19354  |\n",
      "|11049                              |36169  |\n",
      "|11049|01237                        |41522  |\n",
      "|10012                              |475567 |\n",
      "|11040                              |835137 |\n",
      "|10012|11040                        |958097 |\n",
      "|01237                              |1073075|\n",
      "|null                               |1384318|\n",
      "+-----------------------------------+-------+\n",
      "\n"
     ]
    }
   ],
   "source": [
    "final_489_f.groupBy('Z_y_Error').count().orderBy(\"count\").show(60,truncate=False)"
   ]
  },
  {
   "cell_type": "code",
   "execution_count": 72,
   "metadata": {},
   "outputs": [],
   "source": [
    "final_489_ff=final_489_f.filter(final_489.Z_y_Error!='null')\n"
   ]
  },
  {
   "cell_type": "code",
   "execution_count": 73,
   "metadata": {},
   "outputs": [
    {
     "name": "stdout",
     "output_type": "stream",
     "text": [
      "+-----------------------------------+-------+\n",
      "|Z_y_Error                          |count  |\n",
      "+-----------------------------------+-------+\n",
      "|11049|01237|01542                  |1      |\n",
      "|11040|11038|11037                  |1      |\n",
      "|20010|00084                        |1      |\n",
      "|21040|10012|11040|01356|01542      |1      |\n",
      "|11040|21050|00084                  |1      |\n",
      "|11040|11087|00110|01061|01062|01237|1      |\n",
      "|10012|11040|01237                  |1      |\n",
      "|11049|00084|01237                  |2      |\n",
      "|11040|11049|01237                  |2      |\n",
      "|11040|11038                        |3      |\n",
      "|20010|10012|11040|00084            |3      |\n",
      "|11040|01308|01542                  |4      |\n",
      "|10012|11040|21050|00084            |4      |\n",
      "|21050|10012|11040|00084            |4      |\n",
      "|21050|11040|00084                  |6      |\n",
      "|21050|10012|00084                  |7      |\n",
      "|21034|10012|11040|00084            |7      |\n",
      "|11040|00084                        |14     |\n",
      "|21050|00084|01237                  |24     |\n",
      "|11039                              |26     |\n",
      "|11038|11037                        |31     |\n",
      "|11038|11037|11039                  |32     |\n",
      "|21050|00084                        |34     |\n",
      "|10012|00084                        |39     |\n",
      "|11040|11038|11037|11039            |47     |\n",
      "|00084                              |59     |\n",
      "|10012|11040|00084                  |68     |\n",
      "|00084|01237                        |109    |\n",
      "|01237|01542                        |173    |\n",
      "|01308|01542                        |304    |\n",
      "|11040|01237                        |420    |\n",
      "|11040|11236                        |1697   |\n",
      "|10012|01542                        |1982   |\n",
      "|01542                              |2347   |\n",
      "|11040|01542                        |3771   |\n",
      "|10012|11040|01542                  |4612   |\n",
      "|11040|11049                        |6732   |\n",
      "|01237|01308|01542                  |9637   |\n",
      "|10012|01237                        |13238  |\n",
      "|10012|11049                        |14816  |\n",
      "|10012|11040|11049                  |17400  |\n",
      "|11038                              |19354  |\n",
      "|11049                              |36169  |\n",
      "|11049|01237                        |41522  |\n",
      "|10012                              |475567 |\n",
      "|11040                              |835137 |\n",
      "|10012|11040                        |958097 |\n",
      "|01237                              |1073075|\n",
      "+-----------------------------------+-------+\n",
      "\n"
     ]
    }
   ],
   "source": [
    "final_489_ff.groupBy('Z_y_Error').count().orderBy(\"count\").show(60,truncate=False)"
   ]
  },
  {
   "cell_type": "code",
   "execution_count": 74,
   "metadata": {},
   "outputs": [],
   "source": [
    "#final_489.count()"
   ]
  },
  {
   "cell_type": "code",
   "execution_count": 75,
   "metadata": {},
   "outputs": [
    {
     "data": {
      "text/plain": [
       "0"
      ]
     },
     "execution_count": 75,
     "metadata": {},
     "output_type": "execute_result"
    }
   ],
   "source": [
    "final_489_ff.filter(final_489_ff.Z_y_Error=='null').count()\n"
   ]
  },
  {
   "cell_type": "code",
   "execution_count": 76,
   "metadata": {},
   "outputs": [],
   "source": [
    "# from pyspark.sql.functions import isnan\n",
    "\n",
    "# final_489.filter(isnan(final_489['Z_y_Error'])).count()\n"
   ]
  },
  {
   "cell_type": "code",
   "execution_count": 77,
   "metadata": {},
   "outputs": [],
   "source": [
    "from pyspark.sql.functions import split, explode\n",
    "splitted_errors=final_489_ff.withColumn('errors',explode(split('Z_y_Error','\\|')))"
   ]
  },
  {
   "cell_type": "code",
   "execution_count": 78,
   "metadata": {},
   "outputs": [
    {
     "data": {
      "text/plain": [
       "20"
      ]
     },
     "execution_count": 78,
     "metadata": {},
     "output_type": "execute_result"
    }
   ],
   "source": [
    "splitted_errors.select('errors').distinct().count()"
   ]
  },
  {
   "cell_type": "code",
   "execution_count": 79,
   "metadata": {},
   "outputs": [
    {
     "name": "stdout",
     "output_type": "stream",
     "text": [
      "+------+-------+\n",
      "|errors|count  |\n",
      "+------+-------+\n",
      "|01061 |1      |\n",
      "|01356 |1      |\n",
      "|01062 |1      |\n",
      "|11087 |1      |\n",
      "|21040 |1      |\n",
      "|00110 |1      |\n",
      "|20010 |4      |\n",
      "|21034 |7      |\n",
      "|21050 |80     |\n",
      "|11039 |105    |\n",
      "|11037 |111    |\n",
      "|00084 |382    |\n",
      "|11236 |1697   |\n",
      "|01308 |9945   |\n",
      "|11038 |19468  |\n",
      "|01542 |22832  |\n",
      "|11049 |116644 |\n",
      "|01237 |1138205|\n",
      "|10012 |1485846|\n",
      "|11040 |1828033|\n",
      "+------+-------+\n",
      "\n"
     ]
    }
   ],
   "source": [
    "splitted_errors.groupBy('errors').count().orderBy(\"count\").show(30,truncate=False)"
   ]
  },
  {
   "cell_type": "code",
   "execution_count": 80,
   "metadata": {},
   "outputs": [
    {
     "data": {
      "text/plain": [
       "0"
      ]
     },
     "execution_count": 80,
     "metadata": {},
     "output_type": "execute_result"
    }
   ],
   "source": [
    "splitted_errors.filter(splitted_errors.Z_y_Error.isNull()).count()\n"
   ]
  },
  {
   "cell_type": "code",
   "execution_count": 81,
   "metadata": {},
   "outputs": [],
   "source": [
    "# from pyspark.sql.functions import col, when\n",
    "\n",
    "# def blank_as_null(x):\n",
    "\n",
    "#     return when(col(x) != \"\", col(x)).otherwise(None)\n",
    "\n",
    "# dfWithEmptyReplaced = final_489.withColumn(\"Z_y_Error\", blank_as_null(\"Z_y_Error\"))\n",
    "\n",
    "# dfWithEmptyReplaced = final_489.withColumn('Z_y_Error', when(col('Z_y_Error') == 'null','').otherwise(col('Z_y_Error')))\n"
   ]
  },
  {
   "cell_type": "code",
   "execution_count": 82,
   "metadata": {},
   "outputs": [],
   "source": [
    "# dfWithEmptyReplaced.groupby('Z_y_Error').count().show(50,truncate=False)"
   ]
  },
  {
   "cell_type": "code",
   "execution_count": 83,
   "metadata": {},
   "outputs": [],
   "source": [
    "from pyspark.sql.functions import *\n",
    "final_489_date = final_489_ff.withColumn(\"Date\", date_format(\"measuredAt\", \"yyyy-MM-dd\"))\n"
   ]
  },
  {
   "cell_type": "code",
   "execution_count": 84,
   "metadata": {},
   "outputs": [
    {
     "data": {
      "text/plain": [
       "[Row(measuredAt='2020-04-23T17:02:26.441Z', lastCalibrationDate='1900-01-01T00:00:00Z', equipmentNumber='000000000001702989', P_x_.Hou_OperatingCPCPump='2356.0', P_x_.Hou_OperatingLastService='1311.0', P_x_.Hou_OperatingRD='1341.0', P_x_.Hou_OperatingRDPump='30.0', P_x_.Hou_OperatingTotal='7413.0', P_x_.t_TemperaturePND1Set='150.0', P_x_.t_TemperatureSampleLineSet='150.0', P_x_.t_TemperatureVPRSet='350.0', P_x_CPCInletPressureLimit='150.0', P_x_PND1RelativePressure='150.0', P_x_PressureAbsolute='955.3', P_x_RDHeatingSwitch='1.0', P_x_VPRHeatingSwitch='1.0', P_x_mn_PNDBypassFlowMin='1.0', P_x_mx_SystemPressureMax='700.0', Y_c_DeviceName='489', Y_c_FirmwareVersion='3.1.3', Y_r_ChannelFlowCheckResult='-1.37', Y_r_LeakCheckResult='0.0', Y_r_ResponseCheckResult='284.49', Y_y_.Hou_NextService='0.0', Y_y_.U_Voltage1AnalogControllerBoard='14.2', Y_y_.U_Voltage1AnalogInterfaceBoard='15.6', Y_y_.U_Voltage1ControllerBoard='3.3', Y_y_.U_Voltage2AnalogControllerBoard='-14.2', Y_y_.U_Voltage2AnalogInterfaceBoard='-14.9', Y_y_.U_Voltage2ControllerBoard='1.9', Y_y_.U_VoltageElectronicPowerSupply='24.0', Y_y_.U_VoltageHeatingRD='24.0', Y_y_.U_VoltageHetingLine='23.7', Y_y_.U_VoltageInterfaceBoard='3.3', Y_y_.U_VoltageMainElectronic='4.6', Y_y_.U_VoltagePump='24.0', Y_y_.U_VoltageStepMotor='23.9', Y_y_.U_VoltageValve='23.9', Y_y_.t_CPCTemperatureCabinet='29.7', Y_y_.t_CPCTemperatureOptic='42.0', Y_y_.t_CPCTemperatureSaturator='38.0', Y_y_.t_SampleGasTemperature='39.5', Y_y_.t_TemperatureElectronicBoard='44.8', Y_y_.t_TemperaturePND1='151.2', Y_y_.t_TemperatureSampleLine='149.9', Y_y_.t_TemperatureVPR='354.7', Y_y_CPCAmbientPressure='986.0', Y_y_CPCPressureFlowOrifice='516.0', Y_y_CPCPressureNozzle='72.0', Y_y_CPCPulseHeight='null', Y_y_CPCType='2.0', Y_y_FlowPND1='3.29', Y_y_PressureCPC='21.0', Y_y_PressurePND1='-28.8', Y_y_RDDiskFrequency='0.83', Z_y_Error='10012|11040', Z_y_Status='2.0', Z_y_TransitionStatus='R', Date='2020-04-23')]"
      ]
     },
     "execution_count": 84,
     "metadata": {},
     "output_type": "execute_result"
    }
   ],
   "source": [
    "final_489_date.take(1)"
   ]
  },
  {
   "cell_type": "code",
   "execution_count": 85,
   "metadata": {},
   "outputs": [],
   "source": [
    "#final_489_date_date1 = final_489_date.withColumn('dayofmonth',dayofmonth(\"Date\"))\n",
    "#final_489_date.printSchema()"
   ]
  },
  {
   "cell_type": "code",
   "execution_count": 86,
   "metadata": {},
   "outputs": [],
   "source": [
    "df_year = final_489_date.withColumn('year',date_format(col(\"Date\"), \"Y\"))\n"
   ]
  },
  {
   "cell_type": "code",
   "execution_count": 87,
   "metadata": {},
   "outputs": [
    {
     "data": {
      "text/plain": [
       "[Row(measuredAt='2020-04-23T17:02:26.441Z', lastCalibrationDate='1900-01-01T00:00:00Z', equipmentNumber='000000000001702989', P_x_.Hou_OperatingCPCPump='2356.0', P_x_.Hou_OperatingLastService='1311.0', P_x_.Hou_OperatingRD='1341.0', P_x_.Hou_OperatingRDPump='30.0', P_x_.Hou_OperatingTotal='7413.0', P_x_.t_TemperaturePND1Set='150.0', P_x_.t_TemperatureSampleLineSet='150.0', P_x_.t_TemperatureVPRSet='350.0', P_x_CPCInletPressureLimit='150.0', P_x_PND1RelativePressure='150.0', P_x_PressureAbsolute='955.3', P_x_RDHeatingSwitch='1.0', P_x_VPRHeatingSwitch='1.0', P_x_mn_PNDBypassFlowMin='1.0', P_x_mx_SystemPressureMax='700.0', Y_c_DeviceName='489', Y_c_FirmwareVersion='3.1.3', Y_r_ChannelFlowCheckResult='-1.37', Y_r_LeakCheckResult='0.0', Y_r_ResponseCheckResult='284.49', Y_y_.Hou_NextService='0.0', Y_y_.U_Voltage1AnalogControllerBoard='14.2', Y_y_.U_Voltage1AnalogInterfaceBoard='15.6', Y_y_.U_Voltage1ControllerBoard='3.3', Y_y_.U_Voltage2AnalogControllerBoard='-14.2', Y_y_.U_Voltage2AnalogInterfaceBoard='-14.9', Y_y_.U_Voltage2ControllerBoard='1.9', Y_y_.U_VoltageElectronicPowerSupply='24.0', Y_y_.U_VoltageHeatingRD='24.0', Y_y_.U_VoltageHetingLine='23.7', Y_y_.U_VoltageInterfaceBoard='3.3', Y_y_.U_VoltageMainElectronic='4.6', Y_y_.U_VoltagePump='24.0', Y_y_.U_VoltageStepMotor='23.9', Y_y_.U_VoltageValve='23.9', Y_y_.t_CPCTemperatureCabinet='29.7', Y_y_.t_CPCTemperatureOptic='42.0', Y_y_.t_CPCTemperatureSaturator='38.0', Y_y_.t_SampleGasTemperature='39.5', Y_y_.t_TemperatureElectronicBoard='44.8', Y_y_.t_TemperaturePND1='151.2', Y_y_.t_TemperatureSampleLine='149.9', Y_y_.t_TemperatureVPR='354.7', Y_y_CPCAmbientPressure='986.0', Y_y_CPCPressureFlowOrifice='516.0', Y_y_CPCPressureNozzle='72.0', Y_y_CPCPulseHeight='null', Y_y_CPCType='2.0', Y_y_FlowPND1='3.29', Y_y_PressureCPC='21.0', Y_y_PressurePND1='-28.8', Y_y_RDDiskFrequency='0.83', Z_y_Error='10012|11040', Z_y_Status='2.0', Z_y_TransitionStatus='R', Date='2020-04-23', year='2020')]"
      ]
     },
     "execution_count": 87,
     "metadata": {},
     "output_type": "execute_result"
    }
   ],
   "source": [
    "df_year.take(1)"
   ]
  },
  {
   "cell_type": "code",
   "execution_count": 88,
   "metadata": {},
   "outputs": [],
   "source": [
    "df_year = df_year.withColumn('month',date_format(col(\"Date\"), \"M\"))"
   ]
  },
  {
   "cell_type": "code",
   "execution_count": 89,
   "metadata": {},
   "outputs": [
    {
     "data": {
      "text/plain": [
       "[Row(measuredAt='2020-04-23T17:02:26.441Z', lastCalibrationDate='1900-01-01T00:00:00Z', equipmentNumber='000000000001702989', P_x_.Hou_OperatingCPCPump='2356.0', P_x_.Hou_OperatingLastService='1311.0', P_x_.Hou_OperatingRD='1341.0', P_x_.Hou_OperatingRDPump='30.0', P_x_.Hou_OperatingTotal='7413.0', P_x_.t_TemperaturePND1Set='150.0', P_x_.t_TemperatureSampleLineSet='150.0', P_x_.t_TemperatureVPRSet='350.0', P_x_CPCInletPressureLimit='150.0', P_x_PND1RelativePressure='150.0', P_x_PressureAbsolute='955.3', P_x_RDHeatingSwitch='1.0', P_x_VPRHeatingSwitch='1.0', P_x_mn_PNDBypassFlowMin='1.0', P_x_mx_SystemPressureMax='700.0', Y_c_DeviceName='489', Y_c_FirmwareVersion='3.1.3', Y_r_ChannelFlowCheckResult='-1.37', Y_r_LeakCheckResult='0.0', Y_r_ResponseCheckResult='284.49', Y_y_.Hou_NextService='0.0', Y_y_.U_Voltage1AnalogControllerBoard='14.2', Y_y_.U_Voltage1AnalogInterfaceBoard='15.6', Y_y_.U_Voltage1ControllerBoard='3.3', Y_y_.U_Voltage2AnalogControllerBoard='-14.2', Y_y_.U_Voltage2AnalogInterfaceBoard='-14.9', Y_y_.U_Voltage2ControllerBoard='1.9', Y_y_.U_VoltageElectronicPowerSupply='24.0', Y_y_.U_VoltageHeatingRD='24.0', Y_y_.U_VoltageHetingLine='23.7', Y_y_.U_VoltageInterfaceBoard='3.3', Y_y_.U_VoltageMainElectronic='4.6', Y_y_.U_VoltagePump='24.0', Y_y_.U_VoltageStepMotor='23.9', Y_y_.U_VoltageValve='23.9', Y_y_.t_CPCTemperatureCabinet='29.7', Y_y_.t_CPCTemperatureOptic='42.0', Y_y_.t_CPCTemperatureSaturator='38.0', Y_y_.t_SampleGasTemperature='39.5', Y_y_.t_TemperatureElectronicBoard='44.8', Y_y_.t_TemperaturePND1='151.2', Y_y_.t_TemperatureSampleLine='149.9', Y_y_.t_TemperatureVPR='354.7', Y_y_CPCAmbientPressure='986.0', Y_y_CPCPressureFlowOrifice='516.0', Y_y_CPCPressureNozzle='72.0', Y_y_CPCPulseHeight='null', Y_y_CPCType='2.0', Y_y_FlowPND1='3.29', Y_y_PressureCPC='21.0', Y_y_PressurePND1='-28.8', Y_y_RDDiskFrequency='0.83', Z_y_Error='10012|11040', Z_y_Status='2.0', Z_y_TransitionStatus='R', Date='2020-04-23', year='2020', month='4')]"
      ]
     },
     "execution_count": 89,
     "metadata": {},
     "output_type": "execute_result"
    }
   ],
   "source": [
    "df_year.take(1)"
   ]
  },
  {
   "cell_type": "code",
   "execution_count": 90,
   "metadata": {},
   "outputs": [],
   "source": [
    "df_year = df_year.withColumn('day',date_format(col(\"Date\"), \"d\"))"
   ]
  },
  {
   "cell_type": "code",
   "execution_count": 91,
   "metadata": {},
   "outputs": [
    {
     "data": {
      "text/plain": [
       "[Row(measuredAt='2020-04-23T17:02:26.441Z', lastCalibrationDate='1900-01-01T00:00:00Z', equipmentNumber='000000000001702989', P_x_.Hou_OperatingCPCPump='2356.0', P_x_.Hou_OperatingLastService='1311.0', P_x_.Hou_OperatingRD='1341.0', P_x_.Hou_OperatingRDPump='30.0', P_x_.Hou_OperatingTotal='7413.0', P_x_.t_TemperaturePND1Set='150.0', P_x_.t_TemperatureSampleLineSet='150.0', P_x_.t_TemperatureVPRSet='350.0', P_x_CPCInletPressureLimit='150.0', P_x_PND1RelativePressure='150.0', P_x_PressureAbsolute='955.3', P_x_RDHeatingSwitch='1.0', P_x_VPRHeatingSwitch='1.0', P_x_mn_PNDBypassFlowMin='1.0', P_x_mx_SystemPressureMax='700.0', Y_c_DeviceName='489', Y_c_FirmwareVersion='3.1.3', Y_r_ChannelFlowCheckResult='-1.37', Y_r_LeakCheckResult='0.0', Y_r_ResponseCheckResult='284.49', Y_y_.Hou_NextService='0.0', Y_y_.U_Voltage1AnalogControllerBoard='14.2', Y_y_.U_Voltage1AnalogInterfaceBoard='15.6', Y_y_.U_Voltage1ControllerBoard='3.3', Y_y_.U_Voltage2AnalogControllerBoard='-14.2', Y_y_.U_Voltage2AnalogInterfaceBoard='-14.9', Y_y_.U_Voltage2ControllerBoard='1.9', Y_y_.U_VoltageElectronicPowerSupply='24.0', Y_y_.U_VoltageHeatingRD='24.0', Y_y_.U_VoltageHetingLine='23.7', Y_y_.U_VoltageInterfaceBoard='3.3', Y_y_.U_VoltageMainElectronic='4.6', Y_y_.U_VoltagePump='24.0', Y_y_.U_VoltageStepMotor='23.9', Y_y_.U_VoltageValve='23.9', Y_y_.t_CPCTemperatureCabinet='29.7', Y_y_.t_CPCTemperatureOptic='42.0', Y_y_.t_CPCTemperatureSaturator='38.0', Y_y_.t_SampleGasTemperature='39.5', Y_y_.t_TemperatureElectronicBoard='44.8', Y_y_.t_TemperaturePND1='151.2', Y_y_.t_TemperatureSampleLine='149.9', Y_y_.t_TemperatureVPR='354.7', Y_y_CPCAmbientPressure='986.0', Y_y_CPCPressureFlowOrifice='516.0', Y_y_CPCPressureNozzle='72.0', Y_y_CPCPulseHeight='null', Y_y_CPCType='2.0', Y_y_FlowPND1='3.29', Y_y_PressureCPC='21.0', Y_y_PressurePND1='-28.8', Y_y_RDDiskFrequency='0.83', Z_y_Error='10012|11040', Z_y_Status='2.0', Z_y_TransitionStatus='R', Date='2020-04-23', year='2020', month='4', day='23')]"
      ]
     },
     "execution_count": 91,
     "metadata": {},
     "output_type": "execute_result"
    }
   ],
   "source": [
    "df_year.take(1)"
   ]
  },
  {
   "cell_type": "code",
   "execution_count": 92,
   "metadata": {},
   "outputs": [
    {
     "name": "stdout",
     "output_type": "stream",
     "text": [
      "+----+\n",
      "|year|\n",
      "+----+\n",
      "|2020|\n",
      "+----+\n",
      "\n"
     ]
    }
   ],
   "source": [
    "df_year.select('year').distinct().show()"
   ]
  },
  {
   "cell_type": "code",
   "execution_count": 93,
   "metadata": {},
   "outputs": [
    {
     "name": "stdout",
     "output_type": "stream",
     "text": [
      "+-----+\n",
      "|month|\n",
      "+-----+\n",
      "|    7|\n",
      "|    3|\n",
      "|    8|\n",
      "|    5|\n",
      "|    6|\n",
      "|    9|\n",
      "|   10|\n",
      "|    4|\n",
      "+-----+\n",
      "\n"
     ]
    }
   ],
   "source": [
    "df_year.select('month').distinct().show()"
   ]
  },
  {
   "cell_type": "code",
   "execution_count": 94,
   "metadata": {},
   "outputs": [],
   "source": [
    "splitted_df=df_year.withColumn('errors',explode(split('Z_y_Error','\\|')))"
   ]
  },
  {
   "cell_type": "code",
   "execution_count": 95,
   "metadata": {},
   "outputs": [
    {
     "data": {
      "text/plain": [
       "[Row(measuredAt='2020-04-23T17:02:26.441Z', lastCalibrationDate='1900-01-01T00:00:00Z', equipmentNumber='000000000001702989', P_x_.Hou_OperatingCPCPump='2356.0', P_x_.Hou_OperatingLastService='1311.0', P_x_.Hou_OperatingRD='1341.0', P_x_.Hou_OperatingRDPump='30.0', P_x_.Hou_OperatingTotal='7413.0', P_x_.t_TemperaturePND1Set='150.0', P_x_.t_TemperatureSampleLineSet='150.0', P_x_.t_TemperatureVPRSet='350.0', P_x_CPCInletPressureLimit='150.0', P_x_PND1RelativePressure='150.0', P_x_PressureAbsolute='955.3', P_x_RDHeatingSwitch='1.0', P_x_VPRHeatingSwitch='1.0', P_x_mn_PNDBypassFlowMin='1.0', P_x_mx_SystemPressureMax='700.0', Y_c_DeviceName='489', Y_c_FirmwareVersion='3.1.3', Y_r_ChannelFlowCheckResult='-1.37', Y_r_LeakCheckResult='0.0', Y_r_ResponseCheckResult='284.49', Y_y_.Hou_NextService='0.0', Y_y_.U_Voltage1AnalogControllerBoard='14.2', Y_y_.U_Voltage1AnalogInterfaceBoard='15.6', Y_y_.U_Voltage1ControllerBoard='3.3', Y_y_.U_Voltage2AnalogControllerBoard='-14.2', Y_y_.U_Voltage2AnalogInterfaceBoard='-14.9', Y_y_.U_Voltage2ControllerBoard='1.9', Y_y_.U_VoltageElectronicPowerSupply='24.0', Y_y_.U_VoltageHeatingRD='24.0', Y_y_.U_VoltageHetingLine='23.7', Y_y_.U_VoltageInterfaceBoard='3.3', Y_y_.U_VoltageMainElectronic='4.6', Y_y_.U_VoltagePump='24.0', Y_y_.U_VoltageStepMotor='23.9', Y_y_.U_VoltageValve='23.9', Y_y_.t_CPCTemperatureCabinet='29.7', Y_y_.t_CPCTemperatureOptic='42.0', Y_y_.t_CPCTemperatureSaturator='38.0', Y_y_.t_SampleGasTemperature='39.5', Y_y_.t_TemperatureElectronicBoard='44.8', Y_y_.t_TemperaturePND1='151.2', Y_y_.t_TemperatureSampleLine='149.9', Y_y_.t_TemperatureVPR='354.7', Y_y_CPCAmbientPressure='986.0', Y_y_CPCPressureFlowOrifice='516.0', Y_y_CPCPressureNozzle='72.0', Y_y_CPCPulseHeight='null', Y_y_CPCType='2.0', Y_y_FlowPND1='3.29', Y_y_PressureCPC='21.0', Y_y_PressurePND1='-28.8', Y_y_RDDiskFrequency='0.83', Z_y_Error='10012|11040', Z_y_Status='2.0', Z_y_TransitionStatus='R', Date='2020-04-23', year='2020', month='4', day='23', errors='10012')]"
      ]
     },
     "execution_count": 95,
     "metadata": {},
     "output_type": "execute_result"
    }
   ],
   "source": [
    "splitted_df.take(1)"
   ]
  },
  {
   "cell_type": "code",
   "execution_count": 157,
   "metadata": {},
   "outputs": [],
   "source": [
    "month=splitted_df.filter(splitted_df.month=='3')"
   ]
  },
  {
   "cell_type": "code",
   "execution_count": 158,
   "metadata": {},
   "outputs": [
    {
     "data": {
      "text/plain": [
       "9436"
      ]
     },
     "execution_count": 158,
     "metadata": {},
     "output_type": "execute_result"
    }
   ],
   "source": [
    "month.count()"
   ]
  },
  {
   "cell_type": "code",
   "execution_count": 96,
   "metadata": {},
   "outputs": [
    {
     "data": {
      "text/plain": [
       "20"
      ]
     },
     "execution_count": 96,
     "metadata": {},
     "output_type": "execute_result"
    }
   ],
   "source": [
    "splitted_df.select('errors').distinct().count()"
   ]
  },
  {
   "cell_type": "code",
   "execution_count": 97,
   "metadata": {},
   "outputs": [],
   "source": [
    "unique_errorcodes=splitted_df.groupBy('errors').count().orderBy(\"count\")"
   ]
  },
  {
   "cell_type": "code",
   "execution_count": 98,
   "metadata": {},
   "outputs": [
    {
     "name": "stdout",
     "output_type": "stream",
     "text": [
      "+------+-------+\n",
      "|errors|  count|\n",
      "+------+-------+\n",
      "| 01061|      1|\n",
      "| 01062|      1|\n",
      "| 21040|      1|\n",
      "| 11087|      1|\n",
      "| 01356|      1|\n",
      "| 00110|      1|\n",
      "| 20010|      4|\n",
      "| 21034|      7|\n",
      "| 21050|     80|\n",
      "| 11039|    105|\n",
      "| 11037|    111|\n",
      "| 00084|    382|\n",
      "| 11236|   1697|\n",
      "| 01308|   9945|\n",
      "| 11038|  19468|\n",
      "| 01542|  22832|\n",
      "| 11049| 116644|\n",
      "| 01237|1138205|\n",
      "| 10012|1485846|\n",
      "| 11040|1828033|\n",
      "+------+-------+\n",
      "\n"
     ]
    }
   ],
   "source": [
    "unique_errorcodes.show()"
   ]
  },
  {
   "cell_type": "code",
   "execution_count": 99,
   "metadata": {},
   "outputs": [],
   "source": [
    "date_graph=splitted_df.groupby('Date').count().orderBy('count',ascending=False)"
   ]
  },
  {
   "cell_type": "code",
   "execution_count": 100,
   "metadata": {},
   "outputs": [
    {
     "name": "stdout",
     "output_type": "stream",
     "text": [
      "+----------+-----+\n",
      "|      Date|count|\n",
      "+----------+-----+\n",
      "|2020-07-25|63922|\n",
      "|2020-08-15|62912|\n",
      "|2020-08-21|59492|\n",
      "|2020-07-24|59078|\n",
      "|2020-08-23|58714|\n",
      "+----------+-----+\n",
      "only showing top 5 rows\n",
      "\n"
     ]
    }
   ],
   "source": [
    "date_graph.show(5)"
   ]
  },
  {
   "cell_type": "code",
   "execution_count": 101,
   "metadata": {},
   "outputs": [
    {
     "data": {
      "text/plain": [
       "174"
      ]
     },
     "execution_count": 101,
     "metadata": {},
     "output_type": "execute_result"
    }
   ],
   "source": [
    "date_graph.count()"
   ]
  },
  {
   "cell_type": "code",
   "execution_count": 102,
   "metadata": {},
   "outputs": [],
   "source": [
    "date_graph1=date_graph.toPandas()"
   ]
  },
  {
   "cell_type": "code",
   "execution_count": 162,
   "metadata": {},
   "outputs": [
    {
     "data": {
      "text/html": [
       "<div>\n",
       "<style scoped>\n",
       "    .dataframe tbody tr th:only-of-type {\n",
       "        vertical-align: middle;\n",
       "    }\n",
       "\n",
       "    .dataframe tbody tr th {\n",
       "        vertical-align: top;\n",
       "    }\n",
       "\n",
       "    .dataframe thead th {\n",
       "        text-align: right;\n",
       "    }\n",
       "</style>\n",
       "<table border=\"1\" class=\"dataframe\">\n",
       "  <thead>\n",
       "    <tr style=\"text-align: right;\">\n",
       "      <th></th>\n",
       "      <th>Date</th>\n",
       "      <th>count</th>\n",
       "    </tr>\n",
       "  </thead>\n",
       "  <tbody>\n",
       "    <tr>\n",
       "      <th>149</th>\n",
       "      <td>2020-03-06</td>\n",
       "      <td>9436</td>\n",
       "    </tr>\n",
       "    <tr>\n",
       "      <th>157</th>\n",
       "      <td>2020-04-21</td>\n",
       "      <td>7010</td>\n",
       "    </tr>\n",
       "    <tr>\n",
       "      <th>163</th>\n",
       "      <td>2020-04-23</td>\n",
       "      <td>5057</td>\n",
       "    </tr>\n",
       "    <tr>\n",
       "      <th>58</th>\n",
       "      <td>2020-04-24</td>\n",
       "      <td>32804</td>\n",
       "    </tr>\n",
       "    <tr>\n",
       "      <th>172</th>\n",
       "      <td>2020-04-25</td>\n",
       "      <td>1787</td>\n",
       "    </tr>\n",
       "    <tr>\n",
       "      <th>160</th>\n",
       "      <td>2020-04-26</td>\n",
       "      <td>6145</td>\n",
       "    </tr>\n",
       "    <tr>\n",
       "      <th>65</th>\n",
       "      <td>2020-04-27</td>\n",
       "      <td>31030</td>\n",
       "    </tr>\n",
       "    <tr>\n",
       "      <th>79</th>\n",
       "      <td>2020-04-28</td>\n",
       "      <td>28254</td>\n",
       "    </tr>\n",
       "    <tr>\n",
       "      <th>88</th>\n",
       "      <td>2020-04-29</td>\n",
       "      <td>24748</td>\n",
       "    </tr>\n",
       "    <tr>\n",
       "      <th>134</th>\n",
       "      <td>2020-04-30</td>\n",
       "      <td>13646</td>\n",
       "    </tr>\n",
       "    <tr>\n",
       "      <th>127</th>\n",
       "      <td>2020-05-01</td>\n",
       "      <td>14109</td>\n",
       "    </tr>\n",
       "    <tr>\n",
       "      <th>117</th>\n",
       "      <td>2020-05-02</td>\n",
       "      <td>15782</td>\n",
       "    </tr>\n",
       "    <tr>\n",
       "      <th>110</th>\n",
       "      <td>2020-05-03</td>\n",
       "      <td>16796</td>\n",
       "    </tr>\n",
       "    <tr>\n",
       "      <th>60</th>\n",
       "      <td>2020-05-04</td>\n",
       "      <td>31796</td>\n",
       "    </tr>\n",
       "    <tr>\n",
       "      <th>68</th>\n",
       "      <td>2020-05-05</td>\n",
       "      <td>30682</td>\n",
       "    </tr>\n",
       "    <tr>\n",
       "      <th>12</th>\n",
       "      <td>2020-05-06</td>\n",
       "      <td>50331</td>\n",
       "    </tr>\n",
       "    <tr>\n",
       "      <th>38</th>\n",
       "      <td>2020-05-07</td>\n",
       "      <td>38294</td>\n",
       "    </tr>\n",
       "    <tr>\n",
       "      <th>41</th>\n",
       "      <td>2020-05-08</td>\n",
       "      <td>38126</td>\n",
       "    </tr>\n",
       "    <tr>\n",
       "      <th>112</th>\n",
       "      <td>2020-05-09</td>\n",
       "      <td>16712</td>\n",
       "    </tr>\n",
       "    <tr>\n",
       "      <th>102</th>\n",
       "      <td>2020-05-10</td>\n",
       "      <td>19086</td>\n",
       "    </tr>\n",
       "    <tr>\n",
       "      <th>43</th>\n",
       "      <td>2020-05-11</td>\n",
       "      <td>37770</td>\n",
       "    </tr>\n",
       "    <tr>\n",
       "      <th>61</th>\n",
       "      <td>2020-05-12</td>\n",
       "      <td>31429</td>\n",
       "    </tr>\n",
       "    <tr>\n",
       "      <th>33</th>\n",
       "      <td>2020-05-13</td>\n",
       "      <td>41960</td>\n",
       "    </tr>\n",
       "    <tr>\n",
       "      <th>83</th>\n",
       "      <td>2020-05-14</td>\n",
       "      <td>27286</td>\n",
       "    </tr>\n",
       "    <tr>\n",
       "      <th>35</th>\n",
       "      <td>2020-05-15</td>\n",
       "      <td>39095</td>\n",
       "    </tr>\n",
       "    <tr>\n",
       "      <th>118</th>\n",
       "      <td>2020-05-16</td>\n",
       "      <td>15749</td>\n",
       "    </tr>\n",
       "    <tr>\n",
       "      <th>106</th>\n",
       "      <td>2020-05-18</td>\n",
       "      <td>18203</td>\n",
       "    </tr>\n",
       "    <tr>\n",
       "      <th>80</th>\n",
       "      <td>2020-05-19</td>\n",
       "      <td>28200</td>\n",
       "    </tr>\n",
       "    <tr>\n",
       "      <th>21</th>\n",
       "      <td>2020-05-20</td>\n",
       "      <td>48647</td>\n",
       "    </tr>\n",
       "    <tr>\n",
       "      <th>37</th>\n",
       "      <td>2020-05-21</td>\n",
       "      <td>38676</td>\n",
       "    </tr>\n",
       "    <tr>\n",
       "      <th>45</th>\n",
       "      <td>2020-05-22</td>\n",
       "      <td>37142</td>\n",
       "    </tr>\n",
       "    <tr>\n",
       "      <th>156</th>\n",
       "      <td>2020-05-23</td>\n",
       "      <td>7500</td>\n",
       "    </tr>\n",
       "    <tr>\n",
       "      <th>123</th>\n",
       "      <td>2020-05-24</td>\n",
       "      <td>14776</td>\n",
       "    </tr>\n",
       "    <tr>\n",
       "      <th>36</th>\n",
       "      <td>2020-05-25</td>\n",
       "      <td>38877</td>\n",
       "    </tr>\n",
       "    <tr>\n",
       "      <th>22</th>\n",
       "      <td>2020-05-26</td>\n",
       "      <td>48538</td>\n",
       "    </tr>\n",
       "    <tr>\n",
       "      <th>90</th>\n",
       "      <td>2020-05-27</td>\n",
       "      <td>24097</td>\n",
       "    </tr>\n",
       "    <tr>\n",
       "      <th>56</th>\n",
       "      <td>2020-05-28</td>\n",
       "      <td>33438</td>\n",
       "    </tr>\n",
       "    <tr>\n",
       "      <th>96</th>\n",
       "      <td>2020-05-29</td>\n",
       "      <td>20100</td>\n",
       "    </tr>\n",
       "    <tr>\n",
       "      <th>169</th>\n",
       "      <td>2020-05-30</td>\n",
       "      <td>2762</td>\n",
       "    </tr>\n",
       "    <tr>\n",
       "      <th>142</th>\n",
       "      <td>2020-06-02</td>\n",
       "      <td>10885</td>\n",
       "    </tr>\n",
       "    <tr>\n",
       "      <th>129</th>\n",
       "      <td>2020-06-03</td>\n",
       "      <td>13904</td>\n",
       "    </tr>\n",
       "    <tr>\n",
       "      <th>98</th>\n",
       "      <td>2020-06-04</td>\n",
       "      <td>19758</td>\n",
       "    </tr>\n",
       "    <tr>\n",
       "      <th>124</th>\n",
       "      <td>2020-06-05</td>\n",
       "      <td>14719</td>\n",
       "    </tr>\n",
       "    <tr>\n",
       "      <th>152</th>\n",
       "      <td>2020-06-06</td>\n",
       "      <td>8669</td>\n",
       "    </tr>\n",
       "    <tr>\n",
       "      <th>140</th>\n",
       "      <td>2020-06-08</td>\n",
       "      <td>11400</td>\n",
       "    </tr>\n",
       "    <tr>\n",
       "      <th>84</th>\n",
       "      <td>2020-06-09</td>\n",
       "      <td>26813</td>\n",
       "    </tr>\n",
       "    <tr>\n",
       "      <th>71</th>\n",
       "      <td>2020-06-10</td>\n",
       "      <td>30028</td>\n",
       "    </tr>\n",
       "    <tr>\n",
       "      <th>103</th>\n",
       "      <td>2020-06-11</td>\n",
       "      <td>18863</td>\n",
       "    </tr>\n",
       "    <tr>\n",
       "      <th>67</th>\n",
       "      <td>2020-06-12</td>\n",
       "      <td>30872</td>\n",
       "    </tr>\n",
       "    <tr>\n",
       "      <th>120</th>\n",
       "      <td>2020-06-13</td>\n",
       "      <td>15060</td>\n",
       "    </tr>\n",
       "    <tr>\n",
       "      <th>64</th>\n",
       "      <td>2020-06-14</td>\n",
       "      <td>31270</td>\n",
       "    </tr>\n",
       "    <tr>\n",
       "      <th>75</th>\n",
       "      <td>2020-06-15</td>\n",
       "      <td>29232</td>\n",
       "    </tr>\n",
       "    <tr>\n",
       "      <th>23</th>\n",
       "      <td>2020-06-16</td>\n",
       "      <td>48025</td>\n",
       "    </tr>\n",
       "    <tr>\n",
       "      <th>49</th>\n",
       "      <td>2020-06-17</td>\n",
       "      <td>36368</td>\n",
       "    </tr>\n",
       "    <tr>\n",
       "      <th>57</th>\n",
       "      <td>2020-06-18</td>\n",
       "      <td>33320</td>\n",
       "    </tr>\n",
       "    <tr>\n",
       "      <th>66</th>\n",
       "      <td>2020-06-19</td>\n",
       "      <td>31004</td>\n",
       "    </tr>\n",
       "    <tr>\n",
       "      <th>11</th>\n",
       "      <td>2020-06-20</td>\n",
       "      <td>50847</td>\n",
       "    </tr>\n",
       "    <tr>\n",
       "      <th>95</th>\n",
       "      <td>2020-06-21</td>\n",
       "      <td>20902</td>\n",
       "    </tr>\n",
       "    <tr>\n",
       "      <th>108</th>\n",
       "      <td>2020-06-22</td>\n",
       "      <td>17759</td>\n",
       "    </tr>\n",
       "    <tr>\n",
       "      <th>31</th>\n",
       "      <td>2020-06-23</td>\n",
       "      <td>43218</td>\n",
       "    </tr>\n",
       "    <tr>\n",
       "      <th>39</th>\n",
       "      <td>2020-06-24</td>\n",
       "      <td>38269</td>\n",
       "    </tr>\n",
       "    <tr>\n",
       "      <th>15</th>\n",
       "      <td>2020-06-25</td>\n",
       "      <td>49893</td>\n",
       "    </tr>\n",
       "    <tr>\n",
       "      <th>32</th>\n",
       "      <td>2020-06-26</td>\n",
       "      <td>42112</td>\n",
       "    </tr>\n",
       "    <tr>\n",
       "      <th>73</th>\n",
       "      <td>2020-06-27</td>\n",
       "      <td>29588</td>\n",
       "    </tr>\n",
       "    <tr>\n",
       "      <th>78</th>\n",
       "      <td>2020-06-28</td>\n",
       "      <td>28562</td>\n",
       "    </tr>\n",
       "    <tr>\n",
       "      <th>85</th>\n",
       "      <td>2020-06-29</td>\n",
       "      <td>26762</td>\n",
       "    </tr>\n",
       "    <tr>\n",
       "      <th>28</th>\n",
       "      <td>2020-06-30</td>\n",
       "      <td>45154</td>\n",
       "    </tr>\n",
       "    <tr>\n",
       "      <th>40</th>\n",
       "      <td>2020-07-01</td>\n",
       "      <td>38149</td>\n",
       "    </tr>\n",
       "    <tr>\n",
       "      <th>70</th>\n",
       "      <td>2020-07-02</td>\n",
       "      <td>30460</td>\n",
       "    </tr>\n",
       "    <tr>\n",
       "      <th>30</th>\n",
       "      <td>2020-07-03</td>\n",
       "      <td>43696</td>\n",
       "    </tr>\n",
       "    <tr>\n",
       "      <th>55</th>\n",
       "      <td>2020-07-04</td>\n",
       "      <td>33904</td>\n",
       "    </tr>\n",
       "    <tr>\n",
       "      <th>126</th>\n",
       "      <td>2020-07-05</td>\n",
       "      <td>14328</td>\n",
       "    </tr>\n",
       "    <tr>\n",
       "      <th>29</th>\n",
       "      <td>2020-07-06</td>\n",
       "      <td>44767</td>\n",
       "    </tr>\n",
       "    <tr>\n",
       "      <th>44</th>\n",
       "      <td>2020-07-07</td>\n",
       "      <td>37191</td>\n",
       "    </tr>\n",
       "    <tr>\n",
       "      <th>87</th>\n",
       "      <td>2020-07-08</td>\n",
       "      <td>24886</td>\n",
       "    </tr>\n",
       "    <tr>\n",
       "      <th>63</th>\n",
       "      <td>2020-07-09</td>\n",
       "      <td>31301</td>\n",
       "    </tr>\n",
       "    <tr>\n",
       "      <th>86</th>\n",
       "      <td>2020-07-10</td>\n",
       "      <td>26247</td>\n",
       "    </tr>\n",
       "    <tr>\n",
       "      <th>34</th>\n",
       "      <td>2020-07-11</td>\n",
       "      <td>40783</td>\n",
       "    </tr>\n",
       "    <tr>\n",
       "      <th>128</th>\n",
       "      <td>2020-07-12</td>\n",
       "      <td>14003</td>\n",
       "    </tr>\n",
       "    <tr>\n",
       "      <th>101</th>\n",
       "      <td>2020-07-13</td>\n",
       "      <td>19286</td>\n",
       "    </tr>\n",
       "    <tr>\n",
       "      <th>7</th>\n",
       "      <td>2020-07-14</td>\n",
       "      <td>56724</td>\n",
       "    </tr>\n",
       "    <tr>\n",
       "      <th>19</th>\n",
       "      <td>2020-07-15</td>\n",
       "      <td>49624</td>\n",
       "    </tr>\n",
       "    <tr>\n",
       "      <th>27</th>\n",
       "      <td>2020-07-16</td>\n",
       "      <td>46208</td>\n",
       "    </tr>\n",
       "    <tr>\n",
       "      <th>147</th>\n",
       "      <td>2020-07-17</td>\n",
       "      <td>9643</td>\n",
       "    </tr>\n",
       "    <tr>\n",
       "      <th>81</th>\n",
       "      <td>2020-07-20</td>\n",
       "      <td>27904</td>\n",
       "    </tr>\n",
       "    <tr>\n",
       "      <th>104</th>\n",
       "      <td>2020-07-21</td>\n",
       "      <td>18520</td>\n",
       "    </tr>\n",
       "    <tr>\n",
       "      <th>47</th>\n",
       "      <td>2020-07-22</td>\n",
       "      <td>36764</td>\n",
       "    </tr>\n",
       "    <tr>\n",
       "      <th>9</th>\n",
       "      <td>2020-07-23</td>\n",
       "      <td>53232</td>\n",
       "    </tr>\n",
       "    <tr>\n",
       "      <th>3</th>\n",
       "      <td>2020-07-24</td>\n",
       "      <td>59078</td>\n",
       "    </tr>\n",
       "    <tr>\n",
       "      <th>0</th>\n",
       "      <td>2020-07-25</td>\n",
       "      <td>63922</td>\n",
       "    </tr>\n",
       "    <tr>\n",
       "      <th>14</th>\n",
       "      <td>2020-07-26</td>\n",
       "      <td>50159</td>\n",
       "    </tr>\n",
       "    <tr>\n",
       "      <th>25</th>\n",
       "      <td>2020-07-27</td>\n",
       "      <td>47381</td>\n",
       "    </tr>\n",
       "    <tr>\n",
       "      <th>50</th>\n",
       "      <td>2020-07-28</td>\n",
       "      <td>36166</td>\n",
       "    </tr>\n",
       "    <tr>\n",
       "      <th>18</th>\n",
       "      <td>2020-07-29</td>\n",
       "      <td>49628</td>\n",
       "    </tr>\n",
       "    <tr>\n",
       "      <th>131</th>\n",
       "      <td>2020-07-30</td>\n",
       "      <td>13702</td>\n",
       "    </tr>\n",
       "    <tr>\n",
       "      <th>42</th>\n",
       "      <td>2020-07-31</td>\n",
       "      <td>37984</td>\n",
       "    </tr>\n",
       "    <tr>\n",
       "      <th>69</th>\n",
       "      <td>2020-08-01</td>\n",
       "      <td>30648</td>\n",
       "    </tr>\n",
       "    <tr>\n",
       "      <th>119</th>\n",
       "      <td>2020-08-03</td>\n",
       "      <td>15696</td>\n",
       "    </tr>\n",
       "    <tr>\n",
       "      <th>13</th>\n",
       "      <td>2020-08-04</td>\n",
       "      <td>50206</td>\n",
       "    </tr>\n",
       "    <tr>\n",
       "      <th>99</th>\n",
       "      <td>2020-08-05</td>\n",
       "      <td>19616</td>\n",
       "    </tr>\n",
       "    <tr>\n",
       "      <th>115</th>\n",
       "      <td>2020-08-06</td>\n",
       "      <td>16121</td>\n",
       "    </tr>\n",
       "    <tr>\n",
       "      <th>136</th>\n",
       "      <td>2020-08-07</td>\n",
       "      <td>12685</td>\n",
       "    </tr>\n",
       "    <tr>\n",
       "      <th>92</th>\n",
       "      <td>2020-08-08</td>\n",
       "      <td>22998</td>\n",
       "    </tr>\n",
       "    <tr>\n",
       "      <th>150</th>\n",
       "      <td>2020-08-09</td>\n",
       "      <td>9415</td>\n",
       "    </tr>\n",
       "    <tr>\n",
       "      <th>100</th>\n",
       "      <td>2020-08-10</td>\n",
       "      <td>19549</td>\n",
       "    </tr>\n",
       "    <tr>\n",
       "      <th>111</th>\n",
       "      <td>2020-08-11</td>\n",
       "      <td>16759</td>\n",
       "    </tr>\n",
       "    <tr>\n",
       "      <th>52</th>\n",
       "      <td>2020-08-12</td>\n",
       "      <td>35383</td>\n",
       "    </tr>\n",
       "    <tr>\n",
       "      <th>91</th>\n",
       "      <td>2020-08-13</td>\n",
       "      <td>23782</td>\n",
       "    </tr>\n",
       "    <tr>\n",
       "      <th>82</th>\n",
       "      <td>2020-08-14</td>\n",
       "      <td>27322</td>\n",
       "    </tr>\n",
       "    <tr>\n",
       "      <th>1</th>\n",
       "      <td>2020-08-15</td>\n",
       "      <td>62912</td>\n",
       "    </tr>\n",
       "    <tr>\n",
       "      <th>8</th>\n",
       "      <td>2020-08-16</td>\n",
       "      <td>53486</td>\n",
       "    </tr>\n",
       "    <tr>\n",
       "      <th>122</th>\n",
       "      <td>2020-08-17</td>\n",
       "      <td>14808</td>\n",
       "    </tr>\n",
       "    <tr>\n",
       "      <th>158</th>\n",
       "      <td>2020-08-18</td>\n",
       "      <td>7007</td>\n",
       "    </tr>\n",
       "    <tr>\n",
       "      <th>137</th>\n",
       "      <td>2020-08-19</td>\n",
       "      <td>12518</td>\n",
       "    </tr>\n",
       "    <tr>\n",
       "      <th>109</th>\n",
       "      <td>2020-08-20</td>\n",
       "      <td>17630</td>\n",
       "    </tr>\n",
       "    <tr>\n",
       "      <th>2</th>\n",
       "      <td>2020-08-21</td>\n",
       "      <td>59492</td>\n",
       "    </tr>\n",
       "    <tr>\n",
       "      <th>5</th>\n",
       "      <td>2020-08-22</td>\n",
       "      <td>58639</td>\n",
       "    </tr>\n",
       "    <tr>\n",
       "      <th>4</th>\n",
       "      <td>2020-08-23</td>\n",
       "      <td>58714</td>\n",
       "    </tr>\n",
       "    <tr>\n",
       "      <th>10</th>\n",
       "      <td>2020-08-24</td>\n",
       "      <td>52241</td>\n",
       "    </tr>\n",
       "    <tr>\n",
       "      <th>6</th>\n",
       "      <td>2020-08-25</td>\n",
       "      <td>56861</td>\n",
       "    </tr>\n",
       "    <tr>\n",
       "      <th>17</th>\n",
       "      <td>2020-08-26</td>\n",
       "      <td>49747</td>\n",
       "    </tr>\n",
       "    <tr>\n",
       "      <th>26</th>\n",
       "      <td>2020-08-27</td>\n",
       "      <td>46980</td>\n",
       "    </tr>\n",
       "    <tr>\n",
       "      <th>62</th>\n",
       "      <td>2020-08-28</td>\n",
       "      <td>31309</td>\n",
       "    </tr>\n",
       "    <tr>\n",
       "      <th>72</th>\n",
       "      <td>2020-08-29</td>\n",
       "      <td>29986</td>\n",
       "    </tr>\n",
       "    <tr>\n",
       "      <th>138</th>\n",
       "      <td>2020-08-30</td>\n",
       "      <td>12147</td>\n",
       "    </tr>\n",
       "    <tr>\n",
       "      <th>107</th>\n",
       "      <td>2020-08-31</td>\n",
       "      <td>17922</td>\n",
       "    </tr>\n",
       "    <tr>\n",
       "      <th>20</th>\n",
       "      <td>2020-09-01</td>\n",
       "      <td>49128</td>\n",
       "    </tr>\n",
       "    <tr>\n",
       "      <th>24</th>\n",
       "      <td>2020-09-02</td>\n",
       "      <td>47696</td>\n",
       "    </tr>\n",
       "    <tr>\n",
       "      <th>59</th>\n",
       "      <td>2020-09-03</td>\n",
       "      <td>32720</td>\n",
       "    </tr>\n",
       "    <tr>\n",
       "      <th>16</th>\n",
       "      <td>2020-09-04</td>\n",
       "      <td>49800</td>\n",
       "    </tr>\n",
       "    <tr>\n",
       "      <th>93</th>\n",
       "      <td>2020-09-05</td>\n",
       "      <td>22451</td>\n",
       "    </tr>\n",
       "    <tr>\n",
       "      <th>74</th>\n",
       "      <td>2020-09-06</td>\n",
       "      <td>29510</td>\n",
       "    </tr>\n",
       "    <tr>\n",
       "      <th>53</th>\n",
       "      <td>2020-09-07</td>\n",
       "      <td>34913</td>\n",
       "    </tr>\n",
       "    <tr>\n",
       "      <th>46</th>\n",
       "      <td>2020-09-08</td>\n",
       "      <td>37006</td>\n",
       "    </tr>\n",
       "    <tr>\n",
       "      <th>76</th>\n",
       "      <td>2020-09-09</td>\n",
       "      <td>29229</td>\n",
       "    </tr>\n",
       "    <tr>\n",
       "      <th>54</th>\n",
       "      <td>2020-09-10</td>\n",
       "      <td>34170</td>\n",
       "    </tr>\n",
       "    <tr>\n",
       "      <th>77</th>\n",
       "      <td>2020-09-11</td>\n",
       "      <td>28981</td>\n",
       "    </tr>\n",
       "    <tr>\n",
       "      <th>51</th>\n",
       "      <td>2020-09-12</td>\n",
       "      <td>35928</td>\n",
       "    </tr>\n",
       "    <tr>\n",
       "      <th>48</th>\n",
       "      <td>2020-09-13</td>\n",
       "      <td>36676</td>\n",
       "    </tr>\n",
       "    <tr>\n",
       "      <th>89</th>\n",
       "      <td>2020-09-14</td>\n",
       "      <td>24493</td>\n",
       "    </tr>\n",
       "    <tr>\n",
       "      <th>116</th>\n",
       "      <td>2020-09-15</td>\n",
       "      <td>15980</td>\n",
       "    </tr>\n",
       "    <tr>\n",
       "      <th>114</th>\n",
       "      <td>2020-09-16</td>\n",
       "      <td>16528</td>\n",
       "    </tr>\n",
       "    <tr>\n",
       "      <th>97</th>\n",
       "      <td>2020-09-17</td>\n",
       "      <td>19835</td>\n",
       "    </tr>\n",
       "    <tr>\n",
       "      <th>133</th>\n",
       "      <td>2020-09-18</td>\n",
       "      <td>13653</td>\n",
       "    </tr>\n",
       "    <tr>\n",
       "      <th>165</th>\n",
       "      <td>2020-09-19</td>\n",
       "      <td>4704</td>\n",
       "    </tr>\n",
       "    <tr>\n",
       "      <th>166</th>\n",
       "      <td>2020-09-21</td>\n",
       "      <td>4153</td>\n",
       "    </tr>\n",
       "    <tr>\n",
       "      <th>161</th>\n",
       "      <td>2020-09-22</td>\n",
       "      <td>5916</td>\n",
       "    </tr>\n",
       "    <tr>\n",
       "      <th>171</th>\n",
       "      <td>2020-09-23</td>\n",
       "      <td>2008</td>\n",
       "    </tr>\n",
       "    <tr>\n",
       "      <th>132</th>\n",
       "      <td>2020-09-24</td>\n",
       "      <td>13663</td>\n",
       "    </tr>\n",
       "    <tr>\n",
       "      <th>154</th>\n",
       "      <td>2020-09-25</td>\n",
       "      <td>7756</td>\n",
       "    </tr>\n",
       "    <tr>\n",
       "      <th>164</th>\n",
       "      <td>2020-09-26</td>\n",
       "      <td>4808</td>\n",
       "    </tr>\n",
       "    <tr>\n",
       "      <th>170</th>\n",
       "      <td>2020-09-28</td>\n",
       "      <td>2372</td>\n",
       "    </tr>\n",
       "    <tr>\n",
       "      <th>146</th>\n",
       "      <td>2020-09-29</td>\n",
       "      <td>10008</td>\n",
       "    </tr>\n",
       "    <tr>\n",
       "      <th>139</th>\n",
       "      <td>2020-09-30</td>\n",
       "      <td>11910</td>\n",
       "    </tr>\n",
       "    <tr>\n",
       "      <th>121</th>\n",
       "      <td>2020-10-01</td>\n",
       "      <td>14951</td>\n",
       "    </tr>\n",
       "    <tr>\n",
       "      <th>130</th>\n",
       "      <td>2020-10-02</td>\n",
       "      <td>13851</td>\n",
       "    </tr>\n",
       "    <tr>\n",
       "      <th>143</th>\n",
       "      <td>2020-10-03</td>\n",
       "      <td>10494</td>\n",
       "    </tr>\n",
       "    <tr>\n",
       "      <th>173</th>\n",
       "      <td>2020-10-04</td>\n",
       "      <td>123</td>\n",
       "    </tr>\n",
       "    <tr>\n",
       "      <th>167</th>\n",
       "      <td>2020-10-05</td>\n",
       "      <td>4094</td>\n",
       "    </tr>\n",
       "    <tr>\n",
       "      <th>135</th>\n",
       "      <td>2020-10-06</td>\n",
       "      <td>13444</td>\n",
       "    </tr>\n",
       "    <tr>\n",
       "      <th>141</th>\n",
       "      <td>2020-10-07</td>\n",
       "      <td>10933</td>\n",
       "    </tr>\n",
       "    <tr>\n",
       "      <th>94</th>\n",
       "      <td>2020-10-08</td>\n",
       "      <td>21893</td>\n",
       "    </tr>\n",
       "    <tr>\n",
       "      <th>168</th>\n",
       "      <td>2020-10-09</td>\n",
       "      <td>3770</td>\n",
       "    </tr>\n",
       "    <tr>\n",
       "      <th>151</th>\n",
       "      <td>2020-10-10</td>\n",
       "      <td>8844</td>\n",
       "    </tr>\n",
       "    <tr>\n",
       "      <th>145</th>\n",
       "      <td>2020-10-11</td>\n",
       "      <td>10169</td>\n",
       "    </tr>\n",
       "    <tr>\n",
       "      <th>153</th>\n",
       "      <td>2020-10-12</td>\n",
       "      <td>8360</td>\n",
       "    </tr>\n",
       "    <tr>\n",
       "      <th>159</th>\n",
       "      <td>2020-10-13</td>\n",
       "      <td>6958</td>\n",
       "    </tr>\n",
       "    <tr>\n",
       "      <th>105</th>\n",
       "      <td>2020-10-14</td>\n",
       "      <td>18262</td>\n",
       "    </tr>\n",
       "    <tr>\n",
       "      <th>155</th>\n",
       "      <td>2020-10-15</td>\n",
       "      <td>7531</td>\n",
       "    </tr>\n",
       "    <tr>\n",
       "      <th>144</th>\n",
       "      <td>2020-10-16</td>\n",
       "      <td>10302</td>\n",
       "    </tr>\n",
       "    <tr>\n",
       "      <th>113</th>\n",
       "      <td>2020-10-17</td>\n",
       "      <td>16571</td>\n",
       "    </tr>\n",
       "    <tr>\n",
       "      <th>148</th>\n",
       "      <td>2020-10-18</td>\n",
       "      <td>9561</td>\n",
       "    </tr>\n",
       "    <tr>\n",
       "      <th>125</th>\n",
       "      <td>2020-10-19</td>\n",
       "      <td>14573</td>\n",
       "    </tr>\n",
       "    <tr>\n",
       "      <th>162</th>\n",
       "      <td>2020-10-20</td>\n",
       "      <td>5335</td>\n",
       "    </tr>\n",
       "  </tbody>\n",
       "</table>\n",
       "</div>"
      ],
      "text/plain": [
       "          Date  count\n",
       "149 2020-03-06   9436\n",
       "157 2020-04-21   7010\n",
       "163 2020-04-23   5057\n",
       "58  2020-04-24  32804\n",
       "172 2020-04-25   1787\n",
       "160 2020-04-26   6145\n",
       "65  2020-04-27  31030\n",
       "79  2020-04-28  28254\n",
       "88  2020-04-29  24748\n",
       "134 2020-04-30  13646\n",
       "127 2020-05-01  14109\n",
       "117 2020-05-02  15782\n",
       "110 2020-05-03  16796\n",
       "60  2020-05-04  31796\n",
       "68  2020-05-05  30682\n",
       "12  2020-05-06  50331\n",
       "38  2020-05-07  38294\n",
       "41  2020-05-08  38126\n",
       "112 2020-05-09  16712\n",
       "102 2020-05-10  19086\n",
       "43  2020-05-11  37770\n",
       "61  2020-05-12  31429\n",
       "33  2020-05-13  41960\n",
       "83  2020-05-14  27286\n",
       "35  2020-05-15  39095\n",
       "118 2020-05-16  15749\n",
       "106 2020-05-18  18203\n",
       "80  2020-05-19  28200\n",
       "21  2020-05-20  48647\n",
       "37  2020-05-21  38676\n",
       "45  2020-05-22  37142\n",
       "156 2020-05-23   7500\n",
       "123 2020-05-24  14776\n",
       "36  2020-05-25  38877\n",
       "22  2020-05-26  48538\n",
       "90  2020-05-27  24097\n",
       "56  2020-05-28  33438\n",
       "96  2020-05-29  20100\n",
       "169 2020-05-30   2762\n",
       "142 2020-06-02  10885\n",
       "129 2020-06-03  13904\n",
       "98  2020-06-04  19758\n",
       "124 2020-06-05  14719\n",
       "152 2020-06-06   8669\n",
       "140 2020-06-08  11400\n",
       "84  2020-06-09  26813\n",
       "71  2020-06-10  30028\n",
       "103 2020-06-11  18863\n",
       "67  2020-06-12  30872\n",
       "120 2020-06-13  15060\n",
       "64  2020-06-14  31270\n",
       "75  2020-06-15  29232\n",
       "23  2020-06-16  48025\n",
       "49  2020-06-17  36368\n",
       "57  2020-06-18  33320\n",
       "66  2020-06-19  31004\n",
       "11  2020-06-20  50847\n",
       "95  2020-06-21  20902\n",
       "108 2020-06-22  17759\n",
       "31  2020-06-23  43218\n",
       "39  2020-06-24  38269\n",
       "15  2020-06-25  49893\n",
       "32  2020-06-26  42112\n",
       "73  2020-06-27  29588\n",
       "78  2020-06-28  28562\n",
       "85  2020-06-29  26762\n",
       "28  2020-06-30  45154\n",
       "40  2020-07-01  38149\n",
       "70  2020-07-02  30460\n",
       "30  2020-07-03  43696\n",
       "55  2020-07-04  33904\n",
       "126 2020-07-05  14328\n",
       "29  2020-07-06  44767\n",
       "44  2020-07-07  37191\n",
       "87  2020-07-08  24886\n",
       "63  2020-07-09  31301\n",
       "86  2020-07-10  26247\n",
       "34  2020-07-11  40783\n",
       "128 2020-07-12  14003\n",
       "101 2020-07-13  19286\n",
       "7   2020-07-14  56724\n",
       "19  2020-07-15  49624\n",
       "27  2020-07-16  46208\n",
       "147 2020-07-17   9643\n",
       "81  2020-07-20  27904\n",
       "104 2020-07-21  18520\n",
       "47  2020-07-22  36764\n",
       "9   2020-07-23  53232\n",
       "3   2020-07-24  59078\n",
       "0   2020-07-25  63922\n",
       "14  2020-07-26  50159\n",
       "25  2020-07-27  47381\n",
       "50  2020-07-28  36166\n",
       "18  2020-07-29  49628\n",
       "131 2020-07-30  13702\n",
       "42  2020-07-31  37984\n",
       "69  2020-08-01  30648\n",
       "119 2020-08-03  15696\n",
       "13  2020-08-04  50206\n",
       "99  2020-08-05  19616\n",
       "115 2020-08-06  16121\n",
       "136 2020-08-07  12685\n",
       "92  2020-08-08  22998\n",
       "150 2020-08-09   9415\n",
       "100 2020-08-10  19549\n",
       "111 2020-08-11  16759\n",
       "52  2020-08-12  35383\n",
       "91  2020-08-13  23782\n",
       "82  2020-08-14  27322\n",
       "1   2020-08-15  62912\n",
       "8   2020-08-16  53486\n",
       "122 2020-08-17  14808\n",
       "158 2020-08-18   7007\n",
       "137 2020-08-19  12518\n",
       "109 2020-08-20  17630\n",
       "2   2020-08-21  59492\n",
       "5   2020-08-22  58639\n",
       "4   2020-08-23  58714\n",
       "10  2020-08-24  52241\n",
       "6   2020-08-25  56861\n",
       "17  2020-08-26  49747\n",
       "26  2020-08-27  46980\n",
       "62  2020-08-28  31309\n",
       "72  2020-08-29  29986\n",
       "138 2020-08-30  12147\n",
       "107 2020-08-31  17922\n",
       "20  2020-09-01  49128\n",
       "24  2020-09-02  47696\n",
       "59  2020-09-03  32720\n",
       "16  2020-09-04  49800\n",
       "93  2020-09-05  22451\n",
       "74  2020-09-06  29510\n",
       "53  2020-09-07  34913\n",
       "46  2020-09-08  37006\n",
       "76  2020-09-09  29229\n",
       "54  2020-09-10  34170\n",
       "77  2020-09-11  28981\n",
       "51  2020-09-12  35928\n",
       "48  2020-09-13  36676\n",
       "89  2020-09-14  24493\n",
       "116 2020-09-15  15980\n",
       "114 2020-09-16  16528\n",
       "97  2020-09-17  19835\n",
       "133 2020-09-18  13653\n",
       "165 2020-09-19   4704\n",
       "166 2020-09-21   4153\n",
       "161 2020-09-22   5916\n",
       "171 2020-09-23   2008\n",
       "132 2020-09-24  13663\n",
       "154 2020-09-25   7756\n",
       "164 2020-09-26   4808\n",
       "170 2020-09-28   2372\n",
       "146 2020-09-29  10008\n",
       "139 2020-09-30  11910\n",
       "121 2020-10-01  14951\n",
       "130 2020-10-02  13851\n",
       "143 2020-10-03  10494\n",
       "173 2020-10-04    123\n",
       "167 2020-10-05   4094\n",
       "135 2020-10-06  13444\n",
       "141 2020-10-07  10933\n",
       "94  2020-10-08  21893\n",
       "168 2020-10-09   3770\n",
       "151 2020-10-10   8844\n",
       "145 2020-10-11  10169\n",
       "153 2020-10-12   8360\n",
       "159 2020-10-13   6958\n",
       "105 2020-10-14  18262\n",
       "155 2020-10-15   7531\n",
       "144 2020-10-16  10302\n",
       "113 2020-10-17  16571\n",
       "148 2020-10-18   9561\n",
       "125 2020-10-19  14573\n",
       "162 2020-10-20   5335"
      ]
     },
     "execution_count": 162,
     "metadata": {},
     "output_type": "execute_result"
    }
   ],
   "source": [
    "pd.set_option('display.max_rows',None) \n",
    "#date_graph1.sortvalues('Date')\n",
    "date_graph1.sort_values(by=['Date'], axis=0, ascending=True, inplace=False, kind='quicksort', na_position='last')"
   ]
  },
  {
   "cell_type": "code",
   "execution_count": 155,
   "metadata": {},
   "outputs": [],
   "source": [
    "date_graph1['Date'] = pd.to_datetime(date_graph1['Date'])"
   ]
  },
  {
   "cell_type": "code",
   "execution_count": 156,
   "metadata": {},
   "outputs": [
    {
     "data": {
      "image/png": "[encoded data removed]",
      "text/plain": [
       "<Figure size 864x576 with 1 Axes>"
      ]
     },
     "metadata": {
      "needs_background": "light"
     },
     "output_type": "display_data"
    }
   ],
   "source": [
    "import matplotlib.pyplot as plot\n",
    "# daywise_data = pd.DataFrame(APC_freq.groupby('date').date.count())\n",
    "# daywise_data.columns = [\"Count\"]\n",
    "# daywise_data=daywise_data.reset_index(['date']) \n",
    "fig = plot.figure(figsize=(12, 8))\n",
    "ax = fig.add_axes([0,0,1,1])\n",
    "code = date_graph1['Date']\n",
    "count = date_graph1['count']\n",
    "ax.bar(code ,count)\n",
    "plot.xlabel('date', fontsize=15)\n",
    "plot.xticks(rotation=90)\n",
    "plot.ylabel('Count', fontsize=15)\n",
    "plot.grid(True) \n",
    "plot.show() "
   ]
  },
  {
   "cell_type": "code",
   "execution_count": 159,
   "metadata": {},
   "outputs": [],
   "source": [
    "#date_graph1.plot(kind='bar',x='Date',y='count',color='seagreen',figsize=(20,8))"
   ]
  },
  {
   "cell_type": "code",
   "execution_count": 160,
   "metadata": {},
   "outputs": [],
   "source": [
    "# import matplotlib.pyplot as plot\n",
    "# fig = plot.figure(figsize=(30, 12))\n",
    "# #plot.style.use('dark_background')\n",
    "# ax = fig.add_axes([1,1,1,1])\n",
    "# code = date_graph1['Date']\n",
    "# count = date_graph1['count']\n",
    "# ax.bar(code ,count)\n",
    "# plot.xlabel('Date', fontsize=25)\n",
    "# plot.xticks(rotation=90)\n",
    "# plot.ylabel('count', fontsize=25)\n",
    "# plot.grid(True) \n",
    "# ax.tick_params(axis=\"x\", labelsize=18)\n",
    "# ax.tick_params(axis=\"y\", labelsize=20)\n",
    "\n",
    "# plot.show() "
   ]
  },
  {
   "cell_type": "code",
   "execution_count": 106,
   "metadata": {},
   "outputs": [],
   "source": [
    "equip_graph=splitted_df.groupby('equipmentNumber').count().orderBy('count',ascending=False)"
   ]
  },
  {
   "cell_type": "code",
   "execution_count": 107,
   "metadata": {},
   "outputs": [],
   "source": [
    "equip_graph1=equip_graph.toPandas()"
   ]
  },
  {
   "cell_type": "code",
   "execution_count": 109,
   "metadata": {},
   "outputs": [
    {
     "data": {
      "text/html": [
       "<div>\n",
       "<style scoped>\n",
       "    .dataframe tbody tr th:only-of-type {\n",
       "        vertical-align: middle;\n",
       "    }\n",
       "\n",
       "    .dataframe tbody tr th {\n",
       "        vertical-align: top;\n",
       "    }\n",
       "\n",
       "    .dataframe thead th {\n",
       "        text-align: right;\n",
       "    }\n",
       "</style>\n",
       "<table border=\"1\" class=\"dataframe\">\n",
       "  <thead>\n",
       "    <tr style=\"text-align: right;\">\n",
       "      <th></th>\n",
       "      <th>equipmentNumber</th>\n",
       "      <th>count</th>\n",
       "    </tr>\n",
       "  </thead>\n",
       "  <tbody>\n",
       "    <tr>\n",
       "      <th>0</th>\n",
       "      <td>000000000001751400</td>\n",
       "      <td>1376355</td>\n",
       "    </tr>\n",
       "    <tr>\n",
       "      <th>1</th>\n",
       "      <td>000000000001389624</td>\n",
       "      <td>644401</td>\n",
       "    </tr>\n",
       "    <tr>\n",
       "      <th>2</th>\n",
       "      <td>000000000001792283</td>\n",
       "      <td>455226</td>\n",
       "    </tr>\n",
       "    <tr>\n",
       "      <th>3</th>\n",
       "      <td>000000000001708209</td>\n",
       "      <td>385388</td>\n",
       "    </tr>\n",
       "    <tr>\n",
       "      <th>4</th>\n",
       "      <td>000000000001708208</td>\n",
       "      <td>343807</td>\n",
       "    </tr>\n",
       "  </tbody>\n",
       "</table>\n",
       "</div>"
      ],
      "text/plain": [
       "      equipmentNumber    count\n",
       "0  000000000001751400  1376355\n",
       "1  000000000001389624   644401\n",
       "2  000000000001792283   455226\n",
       "3  000000000001708209   385388\n",
       "4  000000000001708208   343807"
      ]
     },
     "execution_count": 109,
     "metadata": {},
     "output_type": "execute_result"
    }
   ],
   "source": [
    "equip_graph1.head()"
   ]
  },
  {
   "cell_type": "code",
   "execution_count": 197,
   "metadata": {},
   "outputs": [
    {
     "data": {
      "image/png": "[encoded data removed]",
      "text/plain": [
       "<Figure size 864x576 with 1 Axes>"
      ]
     },
     "metadata": {
      "needs_background": "light"
     },
     "output_type": "display_data"
    }
   ],
   "source": [
    "#equip_graph1.plot(kind='bar',x='equipmentNumber',y='count',color='green',figsize=(20,8))\n",
    "fig = plot.figure(figsize=(12, 8))\n",
    "ax = fig.add_axes([0,0,1,1])\n",
    "code = equip_graph1['equipmentNumber']\n",
    "count = equip_graph1['count']\n",
    "ax.bar(code ,count)\n",
    "plot.xlabel('equipmentNumber', fontsize=15)\n",
    "plot.xticks(rotation=90)\n",
    "plot.ylabel('Count', fontsize=15)\n",
    "plot.grid(True) \n",
    "plot.show() "
   ]
  },
  {
   "cell_type": "code",
   "execution_count": 183,
   "metadata": {},
   "outputs": [],
   "source": [
    "error_per_day = splitted_df.groupBy('errors','Date').count().orderBy('count',ascending=False)"
   ]
  },
  {
   "cell_type": "code",
   "execution_count": 184,
   "metadata": {},
   "outputs": [
    {
     "name": "stdout",
     "output_type": "stream",
     "text": [
      "+------+----------+-----+\n",
      "|errors|      Date|count|\n",
      "+------+----------+-----+\n",
      "| 11040|2020-08-15|45454|\n",
      "| 11040|2020-08-16|39099|\n",
      "| 10012|2020-08-04|32074|\n",
      "| 11040|2020-08-29|29985|\n",
      "| 11040|2020-08-22|29966|\n",
      "+------+----------+-----+\n",
      "only showing top 5 rows\n",
      "\n"
     ]
    }
   ],
   "source": [
    "error_per_day.show(5)"
   ]
  },
  {
   "cell_type": "code",
   "execution_count": 185,
   "metadata": {},
   "outputs": [
    {
     "data": {
      "text/plain": [
       "720"
      ]
     },
     "execution_count": 185,
     "metadata": {},
     "output_type": "execute_result"
    }
   ],
   "source": [
    "error_per_day.count()"
   ]
  },
  {
   "cell_type": "code",
   "execution_count": 186,
   "metadata": {},
   "outputs": [],
   "source": [
    "error_per_day1=error_per_day.toPandas()"
   ]
  },
  {
   "cell_type": "code",
   "execution_count": 191,
   "metadata": {},
   "outputs": [],
   "source": [
    "error_per_day1['Date'] = pd.to_datetime(error_per_day1['Date']).dt.date"
   ]
  },
  {
   "cell_type": "code",
   "execution_count": 192,
   "metadata": {},
   "outputs": [],
   "source": [
    "errors_daywise = error_per_day1.pivot_table('count',['Date'],'errors') "
   ]
  },
  {
   "cell_type": "code",
   "execution_count": 193,
   "metadata": {},
   "outputs": [
    {
     "data": {
      "image/png": "[encoded data removed]",
      "text/plain": [
       "<Figure size 2160x576 with 1 Axes>"
      ]
     },
     "metadata": {
      "needs_background": "light"
     },
     "output_type": "display_data"
    }
   ],
   "source": [
    "ax = errors_daywise.plot.bar(stacked=True,figsize=(30,8))"
   ]
  },
  {
   "cell_type": "code",
   "execution_count": 119,
   "metadata": {},
   "outputs": [
    {
     "data": {
      "text/plain": [
       "26"
      ]
     },
     "execution_count": 119,
     "metadata": {},
     "output_type": "execute_result"
    }
   ],
   "source": [
    "splitted_df.select('equipmentNumber').distinct().count()"
   ]
  },
  {
   "cell_type": "code",
   "execution_count": 120,
   "metadata": {},
   "outputs": [
    {
     "name": "stdout",
     "output_type": "stream",
     "text": [
      "+--------------------------+\n",
      "|equipmentNumber           |\n",
      "+--------------------------+\n",
      "|000000000000826189        |\n",
      "|000000000000826188        |\n",
      "|000000000000490278        |\n",
      "|000000000000531224_S/N0221|\n",
      "|000000000001389624        |\n",
      "|000000000000933474        |\n",
      "|000000000001708209        |\n",
      "|000000000001486559        |\n",
      "|000000000000591945        |\n",
      "|000000000001389624_S/N0964|\n",
      "|000000000000531224        |\n",
      "|000000000001708208        |\n",
      "|000000000001205837_S/N0734|\n",
      "|000000000001792283        |\n",
      "|000000000000936305        |\n",
      "|000000000001486560        |\n",
      "|000000000001708208_S/N1289|\n",
      "|000000000000687590        |\n",
      "|000000000001205837        |\n",
      "|000000000001484462        |\n",
      "|000000000001391075        |\n",
      "|000000000001751400        |\n",
      "|000000000001403113        |\n",
      "|000000000001702989        |\n",
      "|000000000000933475        |\n",
      "|000000000001751400_S/N1351|\n",
      "+--------------------------+\n",
      "\n"
     ]
    }
   ],
   "source": [
    "splitted_df.select('equipmentNumber').distinct().show(30,truncate=False)"
   ]
  },
  {
   "cell_type": "code",
   "execution_count": 121,
   "metadata": {},
   "outputs": [
    {
     "data": {
      "text/plain": [
       "DataFrame[Error: bigint, Description: string]"
      ]
     },
     "metadata": {},
     "output_type": "display_data"
    }
   ],
   "source": [
    "error_description_489 = spark.read.parquet(\"C:/Users/u21a21/Desktop/error_details.parquet\")\n",
    "display(error_description_489)"
   ]
  },
  {
   "cell_type": "code",
   "execution_count": 122,
   "metadata": {},
   "outputs": [
    {
     "name": "stdout",
     "output_type": "stream",
     "text": [
      "+-----+----------------------------------------------------------------+\n",
      "|Error|Description                                                     |\n",
      "+-----+----------------------------------------------------------------+\n",
      "|21040|PNC: Condensation Particle Counter (CPC) malfunction            |\n",
      "|21050|Chopper diluter flow out of limit                               |\n",
      "|21072|External check valve did not reach requested position within 20s|\n",
      "|21084|Firmware download error – autobaud failed                       |\n",
      "|21085|Firmware download error - loading bootloader                    |\n",
      "+-----+----------------------------------------------------------------+\n",
      "only showing top 5 rows\n",
      "\n"
     ]
    }
   ],
   "source": [
    "error_description_489.show(5,truncate=False)"
   ]
  },
  {
   "cell_type": "code",
   "execution_count": 123,
   "metadata": {},
   "outputs": [],
   "source": [
    "description=unique_errorcodes.join(error_description_489,unique_errorcodes.errors ==  error_description_489.Error,\"inner\")"
   ]
  },
  {
   "cell_type": "code",
   "execution_count": 124,
   "metadata": {},
   "outputs": [],
   "source": [
    "description1=description.drop(description.Error)"
   ]
  },
  {
   "cell_type": "code",
   "execution_count": 125,
   "metadata": {},
   "outputs": [
    {
     "name": "stdout",
     "output_type": "stream",
     "text": [
      "+------+-------+---------------------------------------------------------------------------------------------------+\n",
      "|errors|count  |Description                                                                                        |\n",
      "+------+-------+---------------------------------------------------------------------------------------------------+\n",
      "|21040 |1      |PNC: Condensation Particle Counter (CPC) malfunction                                               |\n",
      "|01356 |1      |Measurement not possible because PNC is busy                                                       |\n",
      "|00110 |1      |Device is warming up                                                                               |\n",
      "|01061 |1      |Leak check performed sucessfully                                                                   |\n",
      "|01062 |1      |Response check performed sucessfully                                                               |\n",
      "|11087 |1      |PNC flow check failed                                                                              |\n",
      "|20010 |4      |System pressure out of limit                                                                       |\n",
      "|21034 |7      |Motor of chopper diluter not rotating                                                              |\n",
      "|21050 |80     |Chopper diluter flow out of limit                                                                  |\n",
      "|11039 |105    |Temperature chopper diluter out of limit                                                           |\n",
      "|11037 |111    |Temperature sampling line out of limit                                                             |\n",
      "|00084 |382    |Due to occurred errors the device goes to Pause for self protection. Please check the error history|\n",
      "|11236 |1697   |PND2 temperature out of limit                                                                      |\n",
      "|01308 |9945   |Inlet temperature PND1 exceeds limit. Cooling down period is activated.                            |\n",
      "|11038 |19468  |Temperature evaporation tube (ET) out of limit                                                     |\n",
      "|01542 |22832  |PND1 drying procedure active                                                                       |\n",
      "|11049 |116644 |Butanol fill bottle empty                                                                          |\n",
      "|01237 |1138205|Raw gas application mode selected                                                                  |\n",
      "|10012 |1485846|Maintenance required                                                                               |\n",
      "|11040 |1828033|PNC: Condensation Particle Counter (CPC) malfunction                                               |\n",
      "+------+-------+---------------------------------------------------------------------------------------------------+\n",
      "\n"
     ]
    }
   ],
   "source": [
    "description1.show(truncate=False)"
   ]
  },
  {
   "cell_type": "code",
   "execution_count": 126,
   "metadata": {},
   "outputs": [],
   "source": [
    "#spark.conf.set(\"spark.sql.execution.arrow.enabled\", \"true\")\n"
   ]
  },
  {
   "cell_type": "code",
   "execution_count": 127,
   "metadata": {},
   "outputs": [],
   "source": [
    "#error_df=splitted_df.toPandas()\n"
   ]
  },
  {
   "cell_type": "code",
   "execution_count": 163,
   "metadata": {},
   "outputs": [],
   "source": [
    "equipment_1=splitted_df.filter(splitted_df.equipmentNumber == '000000000001751400')\n"
   ]
  },
  {
   "cell_type": "code",
   "execution_count": 172,
   "metadata": {},
   "outputs": [],
   "source": [
    "equipment_1_count=equipment_1.groupBy('errors').count()"
   ]
  },
  {
   "cell_type": "code",
   "execution_count": 173,
   "metadata": {},
   "outputs": [
    {
     "name": "stdout",
     "output_type": "stream",
     "text": [
      "+------+------+\n",
      "|errors| count|\n",
      "+------+------+\n",
      "| 10012|764578|\n",
      "| 11049| 23180|\n",
      "| 21040|     1|\n",
      "| 01542|  5602|\n",
      "| 01356|     1|\n",
      "| 20010|     3|\n",
      "| 21050|    11|\n",
      "| 11040|582901|\n",
      "| 00084|    78|\n",
      "+------+------+\n",
      "\n"
     ]
    }
   ],
   "source": [
    "equipment_1_count.show()"
   ]
  },
  {
   "cell_type": "code",
   "execution_count": 175,
   "metadata": {},
   "outputs": [],
   "source": [
    "equipment_1_count1=equipment_1_count.toPandas()"
   ]
  },
  {
   "cell_type": "code",
   "execution_count": 177,
   "metadata": {},
   "outputs": [
    {
     "data": {
      "image/png": "[encoded data removed]",
      "text/plain": [
       "<Figure size 864x576 with 1 Axes>"
      ]
     },
     "metadata": {
      "needs_background": "light"
     },
     "output_type": "display_data"
    }
   ],
   "source": [
    "fig = plot.figure(figsize=(12, 8))\n",
    "ax = fig.add_axes([0,0,1,1])\n",
    "code = equipment_1_count1['errors']\n",
    "count = equipment_1_count1['count']\n",
    "ax.bar(code ,count)\n",
    "plot.xlabel('errors', fontsize=15)\n",
    "plot.xticks(rotation=90)\n",
    "plot.ylabel('count', fontsize=15)\n",
    "plot.grid(True) \n",
    "plot.show() "
   ]
  },
  {
   "cell_type": "code",
   "execution_count": 178,
   "metadata": {},
   "outputs": [],
   "source": [
    "equipment_1_date_count=equipment_1.groupBy('Date','errors').count()"
   ]
  },
  {
   "cell_type": "code",
   "execution_count": 179,
   "metadata": {},
   "outputs": [
    {
     "name": "stdout",
     "output_type": "stream",
     "text": [
      "+----------+------+-----+\n",
      "|      Date|errors|count|\n",
      "+----------+------+-----+\n",
      "|2020-06-20| 11040|16823|\n",
      "|2020-08-13| 10012| 3780|\n",
      "|2020-08-24| 01542|    1|\n",
      "|2020-07-14| 00084|    2|\n",
      "|2020-05-08| 10012| 1231|\n",
      "+----------+------+-----+\n",
      "only showing top 5 rows\n",
      "\n"
     ]
    }
   ],
   "source": [
    "equipment_1_date_count.show(5)"
   ]
  },
  {
   "cell_type": "code",
   "execution_count": 198,
   "metadata": {},
   "outputs": [],
   "source": [
    "equipment_1_date_count1=equipment_1_date_count.toPandas()"
   ]
  },
  {
   "cell_type": "code",
   "execution_count": 199,
   "metadata": {},
   "outputs": [
    {
     "data": {
      "text/html": [
       "<div>\n",
       "<style scoped>\n",
       "    .dataframe tbody tr th:only-of-type {\n",
       "        vertical-align: middle;\n",
       "    }\n",
       "\n",
       "    .dataframe tbody tr th {\n",
       "        vertical-align: top;\n",
       "    }\n",
       "\n",
       "    .dataframe thead th {\n",
       "        text-align: right;\n",
       "    }\n",
       "</style>\n",
       "<table border=\"1\" class=\"dataframe\">\n",
       "  <thead>\n",
       "    <tr style=\"text-align: right;\">\n",
       "      <th></th>\n",
       "      <th>Date</th>\n",
       "      <th>errors</th>\n",
       "      <th>count</th>\n",
       "    </tr>\n",
       "  </thead>\n",
       "  <tbody>\n",
       "    <tr>\n",
       "      <th>0</th>\n",
       "      <td>2020-06-20</td>\n",
       "      <td>11040</td>\n",
       "      <td>16823</td>\n",
       "    </tr>\n",
       "    <tr>\n",
       "      <th>1</th>\n",
       "      <td>2020-08-13</td>\n",
       "      <td>10012</td>\n",
       "      <td>3780</td>\n",
       "    </tr>\n",
       "    <tr>\n",
       "      <th>2</th>\n",
       "      <td>2020-08-24</td>\n",
       "      <td>01542</td>\n",
       "      <td>1</td>\n",
       "    </tr>\n",
       "    <tr>\n",
       "      <th>3</th>\n",
       "      <td>2020-07-14</td>\n",
       "      <td>00084</td>\n",
       "      <td>2</td>\n",
       "    </tr>\n",
       "    <tr>\n",
       "      <th>4</th>\n",
       "      <td>2020-05-08</td>\n",
       "      <td>10012</td>\n",
       "      <td>1231</td>\n",
       "    </tr>\n",
       "  </tbody>\n",
       "</table>\n",
       "</div>"
      ],
      "text/plain": [
       "         Date errors  count\n",
       "0  2020-06-20  11040  16823\n",
       "1  2020-08-13  10012   3780\n",
       "2  2020-08-24  01542      1\n",
       "3  2020-07-14  00084      2\n",
       "4  2020-05-08  10012   1231"
      ]
     },
     "execution_count": 199,
     "metadata": {},
     "output_type": "execute_result"
    }
   ],
   "source": [
    "equipment_1_date_count1.head()"
   ]
  },
  {
   "cell_type": "code",
   "execution_count": 200,
   "metadata": {},
   "outputs": [],
   "source": [
    "equipment_1_date_count1['Date'] = pd.to_datetime(equipment_1_date_count1['Date']).dt.date"
   ]
  },
  {
   "cell_type": "code",
   "execution_count": 201,
   "metadata": {},
   "outputs": [],
   "source": [
    "equipment_1_date_count11= equipment_1_date_count1.pivot_table('count',['Date'],'errors') "
   ]
  },
  {
   "cell_type": "code",
   "execution_count": 202,
   "metadata": {},
   "outputs": [
    {
     "data": {
      "text/html": [
       "<div>\n",
       "<style scoped>\n",
       "    .dataframe tbody tr th:only-of-type {\n",
       "        vertical-align: middle;\n",
       "    }\n",
       "\n",
       "    .dataframe tbody tr th {\n",
       "        vertical-align: top;\n",
       "    }\n",
       "\n",
       "    .dataframe thead th {\n",
       "        text-align: right;\n",
       "    }\n",
       "</style>\n",
       "<table border=\"1\" class=\"dataframe\">\n",
       "  <thead>\n",
       "    <tr style=\"text-align: right;\">\n",
       "      <th>errors</th>\n",
       "      <th>00084</th>\n",
       "      <th>01356</th>\n",
       "      <th>01542</th>\n",
       "      <th>10012</th>\n",
       "      <th>11040</th>\n",
       "      <th>11049</th>\n",
       "      <th>20010</th>\n",
       "      <th>21040</th>\n",
       "      <th>21050</th>\n",
       "    </tr>\n",
       "    <tr>\n",
       "      <th>Date</th>\n",
       "      <th></th>\n",
       "      <th></th>\n",
       "      <th></th>\n",
       "      <th></th>\n",
       "      <th></th>\n",
       "      <th></th>\n",
       "      <th></th>\n",
       "      <th></th>\n",
       "      <th></th>\n",
       "    </tr>\n",
       "  </thead>\n",
       "  <tbody>\n",
       "    <tr>\n",
       "      <th>2020-03-06</th>\n",
       "      <td>3.0</td>\n",
       "      <td>NaN</td>\n",
       "      <td>NaN</td>\n",
       "      <td>NaN</td>\n",
       "      <td>3.0</td>\n",
       "      <td>NaN</td>\n",
       "      <td>NaN</td>\n",
       "      <td>NaN</td>\n",
       "      <td>3.0</td>\n",
       "    </tr>\n",
       "    <tr>\n",
       "      <th>2020-04-21</th>\n",
       "      <td>NaN</td>\n",
       "      <td>NaN</td>\n",
       "      <td>1.0</td>\n",
       "      <td>1559.0</td>\n",
       "      <td>NaN</td>\n",
       "      <td>NaN</td>\n",
       "      <td>NaN</td>\n",
       "      <td>NaN</td>\n",
       "      <td>NaN</td>\n",
       "    </tr>\n",
       "    <tr>\n",
       "      <th>2020-04-24</th>\n",
       "      <td>NaN</td>\n",
       "      <td>NaN</td>\n",
       "      <td>NaN</td>\n",
       "      <td>8680.0</td>\n",
       "      <td>NaN</td>\n",
       "      <td>NaN</td>\n",
       "      <td>NaN</td>\n",
       "      <td>NaN</td>\n",
       "      <td>NaN</td>\n",
       "    </tr>\n",
       "    <tr>\n",
       "      <th>2020-04-27</th>\n",
       "      <td>NaN</td>\n",
       "      <td>NaN</td>\n",
       "      <td>NaN</td>\n",
       "      <td>5804.0</td>\n",
       "      <td>297.0</td>\n",
       "      <td>NaN</td>\n",
       "      <td>NaN</td>\n",
       "      <td>NaN</td>\n",
       "      <td>NaN</td>\n",
       "    </tr>\n",
       "    <tr>\n",
       "      <th>2020-04-28</th>\n",
       "      <td>NaN</td>\n",
       "      <td>NaN</td>\n",
       "      <td>NaN</td>\n",
       "      <td>9283.0</td>\n",
       "      <td>NaN</td>\n",
       "      <td>NaN</td>\n",
       "      <td>NaN</td>\n",
       "      <td>NaN</td>\n",
       "      <td>NaN</td>\n",
       "    </tr>\n",
       "  </tbody>\n",
       "</table>\n",
       "</div>"
      ],
      "text/plain": [
       "errors      00084  01356  01542   10012  11040  11049  20010  21040  21050\n",
       "Date                                                                      \n",
       "2020-03-06    3.0    NaN    NaN     NaN    3.0    NaN    NaN    NaN    3.0\n",
       "2020-04-21    NaN    NaN    1.0  1559.0    NaN    NaN    NaN    NaN    NaN\n",
       "2020-04-24    NaN    NaN    NaN  8680.0    NaN    NaN    NaN    NaN    NaN\n",
       "2020-04-27    NaN    NaN    NaN  5804.0  297.0    NaN    NaN    NaN    NaN\n",
       "2020-04-28    NaN    NaN    NaN  9283.0    NaN    NaN    NaN    NaN    NaN"
      ]
     },
     "execution_count": 202,
     "metadata": {},
     "output_type": "execute_result"
    }
   ],
   "source": [
    "equipment_1_date_count11.head()"
   ]
  },
  {
   "cell_type": "code",
   "execution_count": 204,
   "metadata": {},
   "outputs": [
    {
     "data": {
      "text/plain": [
       "<matplotlib.axes._subplots.AxesSubplot at 0x1edf3f11780>"
      ]
     },
     "execution_count": 204,
     "metadata": {},
     "output_type": "execute_result"
    },
    {
     "data": {
      "image/png": "[encoded data removed]",
      "text/plain": [
       "<Figure size 1440x648 with 1 Axes>"
      ]
     },
     "metadata": {
      "needs_background": "light"
     },
     "output_type": "display_data"
    }
   ],
   "source": [
    "equipment_1_date_count11.plot.bar(stacked=True,figsize=(20,9))"
   ]
  },
  {
   "cell_type": "code",
   "execution_count": 165,
   "metadata": {},
   "outputs": [],
   "source": [
    "#equipment_1.show(5)"
   ]
  },
  {
   "cell_type": "code",
   "execution_count": 166,
   "metadata": {},
   "outputs": [],
   "source": [
    "err_all_day=equipment_1.groupby('Date','errors').count().orderBy('count', ascending=False)"
   ]
  },
  {
   "cell_type": "code",
   "execution_count": 167,
   "metadata": {},
   "outputs": [
    {
     "data": {
      "text/plain": [
       "252"
      ]
     },
     "execution_count": 167,
     "metadata": {},
     "output_type": "execute_result"
    }
   ],
   "source": [
    "err_all_day.count()"
   ]
  },
  {
   "cell_type": "code",
   "execution_count": 168,
   "metadata": {},
   "outputs": [
    {
     "name": "stdout",
     "output_type": "stream",
     "text": [
      "+----------+------+-----+\n",
      "|Date      |errors|count|\n",
      "+----------+------+-----+\n",
      "|2020-06-20|10012 |16823|\n",
      "|2020-06-20|11040 |16823|\n",
      "|2020-08-23|10012 |16581|\n",
      "|2020-08-23|11040 |16581|\n",
      "|2020-05-03|10012 |16530|\n",
      "|2020-05-21|10012 |15866|\n",
      "|2020-05-02|10012 |15712|\n",
      "|2020-08-15|11040 |15330|\n",
      "|2020-08-15|10012 |15330|\n",
      "|2020-07-24|10012 |15100|\n",
      "|2020-07-24|11040 |15100|\n",
      "|2020-08-25|10012 |15097|\n",
      "|2020-08-25|11040 |15097|\n",
      "|2020-08-21|10012 |15000|\n",
      "|2020-08-21|11040 |15000|\n",
      "|2020-06-25|11040 |14562|\n",
      "|2020-06-25|10012 |14562|\n",
      "|2020-08-22|10012 |14459|\n",
      "|2020-08-22|11040 |14459|\n",
      "|2020-06-27|10012 |14304|\n",
      "+----------+------+-----+\n",
      "only showing top 20 rows\n",
      "\n"
     ]
    }
   ],
   "source": [
    "err_all_day.show(20,truncate=False)"
   ]
  },
  {
   "cell_type": "code",
   "execution_count": 169,
   "metadata": {},
   "outputs": [],
   "source": [
    "err_all_day_pds = err_all_day.toPandas()"
   ]
  },
  {
   "cell_type": "code",
   "execution_count": 135,
   "metadata": {},
   "outputs": [],
   "source": [
    "import matplotlib.pyplot as plot"
   ]
  },
  {
   "cell_type": "code",
   "execution_count": 136,
   "metadata": {},
   "outputs": [
    {
     "data": {
      "text/html": [
       "<div>\n",
       "<style scoped>\n",
       "    .dataframe tbody tr th:only-of-type {\n",
       "        vertical-align: middle;\n",
       "    }\n",
       "\n",
       "    .dataframe tbody tr th {\n",
       "        vertical-align: top;\n",
       "    }\n",
       "\n",
       "    .dataframe thead th {\n",
       "        text-align: right;\n",
       "    }\n",
       "</style>\n",
       "<table border=\"1\" class=\"dataframe\">\n",
       "  <thead>\n",
       "    <tr style=\"text-align: right;\">\n",
       "      <th></th>\n",
       "      <th>Date</th>\n",
       "      <th>errors</th>\n",
       "      <th>count</th>\n",
       "    </tr>\n",
       "  </thead>\n",
       "  <tbody>\n",
       "    <tr>\n",
       "      <th>0</th>\n",
       "      <td>2020-06-15</td>\n",
       "      <td>11040</td>\n",
       "      <td>1318</td>\n",
       "    </tr>\n",
       "    <tr>\n",
       "      <th>1</th>\n",
       "      <td>2020-08-12</td>\n",
       "      <td>11040</td>\n",
       "      <td>74</td>\n",
       "    </tr>\n",
       "    <tr>\n",
       "      <th>2</th>\n",
       "      <td>2020-10-17</td>\n",
       "      <td>11040</td>\n",
       "      <td>50</td>\n",
       "    </tr>\n",
       "    <tr>\n",
       "      <th>3</th>\n",
       "      <td>2020-09-24</td>\n",
       "      <td>11040</td>\n",
       "      <td>24</td>\n",
       "    </tr>\n",
       "    <tr>\n",
       "      <th>4</th>\n",
       "      <td>2020-08-14</td>\n",
       "      <td>11040</td>\n",
       "      <td>1</td>\n",
       "    </tr>\n",
       "  </tbody>\n",
       "</table>\n",
       "</div>"
      ],
      "text/plain": [
       "         Date errors  count\n",
       "0  2020-06-15  11040   1318\n",
       "1  2020-08-12  11040     74\n",
       "2  2020-10-17  11040     50\n",
       "3  2020-09-24  11040     24\n",
       "4  2020-08-14  11040      1"
      ]
     },
     "execution_count": 136,
     "metadata": {},
     "output_type": "execute_result"
    }
   ],
   "source": [
    "err_all_day_pds.head()"
   ]
  },
  {
   "cell_type": "code",
   "execution_count": 137,
   "metadata": {},
   "outputs": [
    {
     "data": {
      "text/plain": [
       "array(['11040'], dtype=object)"
      ]
     },
     "execution_count": 137,
     "metadata": {},
     "output_type": "execute_result"
    }
   ],
   "source": [
    "err_all_day_pds.errors.unique()"
   ]
  },
  {
   "cell_type": "code",
   "execution_count": 138,
   "metadata": {},
   "outputs": [
    {
     "data": {
      "text/plain": [
       "<matplotlib.axes._subplots.AxesSubplot at 0x1edf3b90be0>"
      ]
     },
     "execution_count": 138,
     "metadata": {},
     "output_type": "execute_result"
    },
    {
     "data": {
      "image/png": "[encoded data removed]",
      "text/plain": [
       "<Figure size 1440x576 with 1 Axes>"
      ]
     },
     "metadata": {
      "needs_background": "light"
     },
     "output_type": "display_data"
    }
   ],
   "source": [
    "err_all_day_pds.plot(x='Date',y='count',kind='bar',figsize=(20,8))\n"
   ]
  },
  {
   "cell_type": "code",
   "execution_count": 139,
   "metadata": {},
   "outputs": [],
   "source": [
    "equip_df = err_all_day_pds.pivot_table('count',['Date'],'errors') "
   ]
  },
  {
   "cell_type": "code",
   "execution_count": 140,
   "metadata": {},
   "outputs": [
    {
     "data": {
      "image/png": "[encoded data removed]",
      "text/plain": [
       "<Figure size 1440x576 with 1 Axes>"
      ]
     },
     "metadata": {
      "needs_background": "light"
     },
     "output_type": "display_data"
    }
   ],
   "source": [
    "ax = equip_df.plot.bar(stacked=True,figsize=(20,8))"
   ]
  },
  {
   "cell_type": "code",
   "execution_count": 141,
   "metadata": {},
   "outputs": [],
   "source": [
    "monthly_1=equipment_1.groupby('month','errors').count().orderBy('count', ascending=False)"
   ]
  },
  {
   "cell_type": "code",
   "execution_count": 142,
   "metadata": {},
   "outputs": [],
   "source": [
    "monthly12=monthly_1.toPandas()"
   ]
  },
  {
   "cell_type": "code",
   "execution_count": 143,
   "metadata": {},
   "outputs": [],
   "source": [
    "monthly11=monthly12.pivot_table('count',['month'],'errors') "
   ]
  },
  {
   "cell_type": "code",
   "execution_count": 144,
   "metadata": {},
   "outputs": [
    {
     "data": {
      "image/png": "[encoded data removed]",
      "text/plain": [
       "<Figure size 1440x576 with 1 Axes>"
      ]
     },
     "metadata": {
      "needs_background": "light"
     },
     "output_type": "display_data"
    }
   ],
   "source": [
    "ax =monthly11.plot.bar(stacked=True,figsize=(20,8))"
   ]
  },
  {
   "cell_type": "code",
   "execution_count": 145,
   "metadata": {},
   "outputs": [],
   "source": [
    "equipment_2=splitted_df.filter(splitted_df.equipmentNumber == '000000000000933475')\n"
   ]
  },
  {
   "cell_type": "code",
   "execution_count": 146,
   "metadata": {},
   "outputs": [],
   "source": [
    "err_all_day_2=equipment_2.groupby('Date','errors').count().orderBy('count', ascending=False)"
   ]
  },
  {
   "cell_type": "code",
   "execution_count": 147,
   "metadata": {},
   "outputs": [
    {
     "name": "stdout",
     "output_type": "stream",
     "text": [
      "+----------+------+-----+\n",
      "|Date      |errors|count|\n",
      "+----------+------+-----+\n",
      "|2020-06-30|01237 |13562|\n",
      "|2020-07-01|01237 |12547|\n",
      "|2020-07-07|01237 |9077 |\n",
      "|2020-07-03|01237 |8981 |\n",
      "|2020-07-06|01237 |8413 |\n",
      "|2020-07-02|01237 |6449 |\n",
      "|2020-03-06|10012 |5465 |\n",
      "|2020-06-24|01237 |4323 |\n",
      "|2020-06-29|01237 |4148 |\n",
      "|2020-06-26|01237 |3340 |\n",
      "|2020-10-14|01237 |2349 |\n",
      "|2020-06-24|11049 |2260 |\n",
      "|2020-07-29|01237 |2208 |\n",
      "|2020-07-31|01237 |1945 |\n",
      "|2020-08-25|01237 |1613 |\n",
      "|2020-08-26|01237 |1442 |\n",
      "|2020-09-29|01237 |1421 |\n",
      "|2020-07-24|01237 |1372 |\n",
      "|2020-09-30|01237 |1349 |\n",
      "|2020-07-30|01237 |1324 |\n",
      "+----------+------+-----+\n",
      "only showing top 20 rows\n",
      "\n"
     ]
    }
   ],
   "source": [
    "err_all_day_2.show(20,truncate=False)"
   ]
  },
  {
   "cell_type": "code",
   "execution_count": 148,
   "metadata": {},
   "outputs": [
    {
     "name": "stdout",
     "output_type": "stream",
     "text": [
      "+----------+------+-----+\n",
      "|      Date|errors|count|\n",
      "+----------+------+-----+\n",
      "|2020-09-22| 11040|    4|\n",
      "|2020-06-26| 11040|    1|\n",
      "+----------+------+-----+\n",
      "\n"
     ]
    }
   ],
   "source": [
    "err_all_day_2.filter(err_all_day_2.errors == '11040').show()"
   ]
  },
  {
   "cell_type": "code",
   "execution_count": 149,
   "metadata": {},
   "outputs": [
    {
     "name": "stdout",
     "output_type": "stream",
     "text": [
      "+------+\n",
      "|errors|\n",
      "+------+\n",
      "| 10012|\n",
      "| 11049|\n",
      "| 01542|\n",
      "| 01237|\n",
      "| 11040|\n",
      "+------+\n",
      "\n"
     ]
    }
   ],
   "source": [
    "equipment_2.select('errors').distinct().show()"
   ]
  },
  {
   "cell_type": "code",
   "execution_count": 150,
   "metadata": {},
   "outputs": [],
   "source": [
    "err_all_day_pds_2 = err_all_day_2.toPandas()"
   ]
  },
  {
   "cell_type": "code",
   "execution_count": 151,
   "metadata": {},
   "outputs": [],
   "source": [
    "equip_df_2 = err_all_day_pds_2.pivot_table('count',['Date'],'errors') "
   ]
  },
  {
   "cell_type": "code",
   "execution_count": 152,
   "metadata": {},
   "outputs": [
    {
     "data": {
      "text/plain": [
       "<matplotlib.axes._subplots.AxesSubplot at 0x1edf41d6b38>"
      ]
     },
     "execution_count": 152,
     "metadata": {},
     "output_type": "execute_result"
    },
    {
     "data": {
      "image/png": "[encoded data removed]",
      "text/plain": [
       "<Figure size 1440x648 with 1 Axes>"
      ]
     },
     "metadata": {
      "needs_background": "light"
     },
     "output_type": "display_data"
    }
   ],
   "source": [
    "import numpy as np\n",
    "\n",
    "equip_df_2.plot.bar(stacked=True,figsize=(20,9))\n",
    "#plot.yticks(np.arange(0, 14000, 1000))"
   ]
  },
  {
   "cell_type": "code",
   "execution_count": 23,
   "metadata": {},
   "outputs": [],
   "source": [
    "error_month_3=splitted_df.filter(splitted_df.month == '3')\n"
   ]
  },
  {
   "cell_type": "code",
   "execution_count": 24,
   "metadata": {},
   "outputs": [
    {
     "data": {
      "text/plain": [
       "[Row(measuredAt='2020-03-30T08:39:45.74Z', lastCalibrationDate='1900-01-01T00:00:00Z', equipmentNumber='000000000000826189', P_x_.Hou_OperatingCPCPump='14590.0', P_x_.Hou_OperatingLastService='388.0', P_x_.Hou_OperatingRD='4788.0', P_x_.Hou_OperatingRDPump='3694.0', P_x_.Hou_OperatingTotal='41378.0', P_x_.t_TemperaturePND1Set='152.0', P_x_.t_TemperatureSampleLineSet='150.0', P_x_.t_TemperatureVPRSet='350.0', P_x_CPCInletPressureLimit='150.0', P_x_PND1RelativePressure='150.0', P_x_PressureAbsolute='956.7', P_x_RDHeatingSwitch='1.0', P_x_VPRHeatingSwitch='1.0', P_x_mn_PNDBypassFlowMin='1.0', P_x_mx_SystemPressureMax='700.0', Y_c_DeviceName='489', Y_c_FirmwareVersion='2.30.8', Y_r_ChannelFlowCheckResult='-4.12', Y_r_LeakCheckResult='0.0', Y_r_ResponseCheckResult='222.33', Y_y_.Hou_NextService='611.0', Y_y_.U_Voltage1AnalogControllerBoard='14.1', Y_y_.U_Voltage1AnalogInterfaceBoard='15.1', Y_y_.U_Voltage1ControllerBoard='3.32', Y_y_.U_Voltage2AnalogControllerBoard='-14.1', Y_y_.U_Voltage2AnalogInterfaceBoard='-15.0', Y_y_.U_Voltage2ControllerBoard='1.9', Y_y_.U_VoltageElectronicPowerSupply='23.8', Y_y_.U_VoltageHeatingRD='23.8', Y_y_.U_VoltageHetingLine='23.6', Y_y_.U_VoltageInterfaceBoard='3.33', Y_y_.U_VoltageMainElectronic='4.6', Y_y_.U_VoltagePump='23.8', Y_y_.U_VoltageStepMotor='23.8', Y_y_.U_VoltageValve='23.8', Y_y_.t_CPCTemperatureCabinet='36.2', Y_y_.t_CPCTemperatureOptic='40.0', Y_y_.t_CPCTemperatureSaturator='38.3', Y_y_.t_SampleGasTemperature='35.3', Y_y_.t_TemperatureElectronicBoard='32.1', Y_y_.t_TemperaturePND1='153.0', Y_y_.t_TemperatureSampleLine='149.3', Y_y_.t_TemperatureVPR='342.0', Y_y_CPCAmbientPressure='997.0', Y_y_CPCPressureFlowOrifice='637.0', Y_y_CPCPressureNozzle='24.0', Y_y_CPCPulseHeight='null', Y_y_CPCType='1.0', Y_y_FlowPND1='4.99', Y_y_PressureCPC='21.1', Y_y_PressurePND1='-47.9', Y_y_RDDiskFrequency='0.68', Z_y_Error='null', Z_y_Status='2.0', Z_y_TransitionStatus='R', Date='2020-03-30', year='2020', month='3', day='30', errors='null')]"
      ]
     },
     "execution_count": 24,
     "metadata": {},
     "output_type": "execute_result"
    }
   ],
   "source": [
    "error_month_3.take(1)"
   ]
  },
  {
   "cell_type": "code",
   "execution_count": 25,
   "metadata": {},
   "outputs": [],
   "source": [
    "#error_month_3.groupby('Z_y_Error','month').agg({'Z_y_Error': 'count'}).show()"
   ]
  },
  {
   "cell_type": "code",
   "execution_count": 26,
   "metadata": {},
   "outputs": [
    {
     "name": "stdout",
     "output_type": "stream",
     "text": [
      "+------+-----+-------------+\n",
      "|errors|month|count(errors)|\n",
      "+------+-----+-------------+\n",
      "|  null|    3|        11299|\n",
      "| 00084|    3|            3|\n",
      "| 11040|    3|         1567|\n",
      "| 21050|    3|            3|\n",
      "| 10012|    3|         7863|\n",
      "+------+-----+-------------+\n",
      "\n"
     ]
    }
   ],
   "source": [
    "error_month_3.groupby('errors','month').agg({'errors': 'count'}).show()"
   ]
  },
  {
   "cell_type": "code",
   "execution_count": 29,
   "metadata": {},
   "outputs": [
    {
     "name": "stdout",
     "output_type": "stream",
     "text": [
      "+------------------+------+-----+-------------+\n",
      "|   equipmentNumber|errors|month|count(errors)|\n",
      "+------------------+------+-----+-------------+\n",
      "|000000000001751400| 21050|    3|            3|\n",
      "|000000000001751400| 00084|    3|            3|\n",
      "|000000000001751400| 11040|    3|            3|\n",
      "|000000000000936305|  null|    3|          339|\n",
      "|000000000000531224|  null|    3|          568|\n",
      "|000000000001486559| 11040|    3|          745|\n",
      "|000000000001486559| 10012|    3|          745|\n",
      "|000000000001702989| 10012|    3|          819|\n",
      "|000000000001702989| 11040|    3|          819|\n",
      "|000000000000490278| 10012|    3|          834|\n",
      "|000000000000826188|  null|    3|         1054|\n",
      "|000000000001751400|  null|    3|         1108|\n",
      "|000000000000933475| 10012|    3|         5465|\n",
      "|000000000000826189|  null|    3|         8230|\n",
      "+------------------+------+-----+-------------+\n",
      "\n"
     ]
    }
   ],
   "source": [
    "error_month_3.groupby('equipmentNumber','errors','month').agg({'errors': 'count'}).orderBy(\"count(errors)\").show()"
   ]
  },
  {
   "cell_type": "code",
   "execution_count": 37,
   "metadata": {},
   "outputs": [],
   "source": [
    "error_month_4=splitted_df.filter(splitted_df.month == '4')"
   ]
  },
  {
   "cell_type": "code",
   "execution_count": 38,
   "metadata": {},
   "outputs": [],
   "source": [
    "#error_month_4.groupby('Z_y_Error','month').agg({'Z_y_Error': 'count'}).show()"
   ]
  },
  {
   "cell_type": "code",
   "execution_count": 39,
   "metadata": {},
   "outputs": [
    {
     "name": "stdout",
     "output_type": "stream",
     "text": [
      "+------+-----+-------------+\n",
      "|errors|month|count(errors)|\n",
      "+------+-----+-------------+\n",
      "| 20010|    4|            1|\n",
      "| 11049|    4|         6083|\n",
      "| 10012|    4|        79598|\n",
      "| 01542|    4|           52|\n",
      "|  null|    4|        68794|\n",
      "| 11040|    4|        64742|\n",
      "| 00084|    4|            5|\n",
      "+------+-----+-------------+\n",
      "\n"
     ]
    }
   ],
   "source": [
    "error_month_4.groupby('errors','month').agg({'errors': 'count'}).show()"
   ]
  },
  {
   "cell_type": "code",
   "execution_count": 40,
   "metadata": {},
   "outputs": [
    {
     "name": "stdout",
     "output_type": "stream",
     "text": [
      "+------------------+------+-----+-------------+\n",
      "|   equipmentNumber|errors|month|count(errors)|\n",
      "+------------------+------+-----+-------------+\n",
      "|000000000000591945| 20010|    4|            1|\n",
      "|000000000000490278|  null|    4|            1|\n",
      "|000000000001751400| 01542|    4|            1|\n",
      "|000000000001486559| 01542|    4|            3|\n",
      "|000000000001702989| 01542|    4|            4|\n",
      "|000000000000591945| 00084|    4|            5|\n",
      "|000000000001708209| 01542|    4|           20|\n",
      "|000000000001403113| 01542|    4|           24|\n",
      "|000000000001751400| 11040|    4|          297|\n",
      "|000000000000933474| 11040|    4|          602|\n",
      "|000000000000591945| 11049|    4|          743|\n",
      "|000000000000591945| 11040|    4|          871|\n",
      "|000000000001205837| 11040|    4|          897|\n",
      "|000000000001403113| 11040|    4|         1838|\n",
      "|000000000001205837| 11049|    4|         5340|\n",
      "|000000000000531224|  null|    4|         6969|\n",
      "|000000000001205837|  null|    4|         8993|\n",
      "|000000000000933474|  null|    4|        16607|\n",
      "|000000000001486559| 10012|    4|        16957|\n",
      "|000000000001486559| 11040|    4|        16957|\n",
      "|000000000001702989| 10012|    4|        18610|\n",
      "|000000000001702989| 11040|    4|        18610|\n",
      "|000000000000490278| 10012|    4|        18705|\n",
      "|000000000001708209| 11040|    4|        24670|\n",
      "|000000000001751400| 10012|    4|        25326|\n",
      "|000000000000591945|  null|    4|        36224|\n",
      "+------------------+------+-----+-------------+\n",
      "\n"
     ]
    }
   ],
   "source": [
    "error_month_4.groupby('equipmentNumber','errors','month').agg({'errors': 'count'}).orderBy(\"count(errors)\").show(100)"
   ]
  },
  {
   "cell_type": "code",
   "execution_count": 41,
   "metadata": {},
   "outputs": [],
   "source": [
    "error_month_5=splitted_df.filter(splitted_df.month == '5')"
   ]
  },
  {
   "cell_type": "code",
   "execution_count": 42,
   "metadata": {},
   "outputs": [
    {
     "name": "stdout",
     "output_type": "stream",
     "text": [
      "+------+-----+-------------+\n",
      "|errors|month|count(errors)|\n",
      "+------+-----+-------------+\n",
      "|  null|    5|       426887|\n",
      "| 01542|    5|        15495|\n",
      "| 10012|    5|       338176|\n",
      "| 11038|    5|         1404|\n",
      "| 21050|    5|           21|\n",
      "| 11040|    5|       205750|\n",
      "| 00084|    5|           51|\n",
      "| 11049|    5|        28760|\n",
      "| 01237|    5|       226357|\n",
      "| 01308|    5|         9945|\n",
      "+------+-----+-------------+\n",
      "\n"
     ]
    }
   ],
   "source": [
    "error_month_5.groupby('errors','month').agg({'errors': 'count'}).show()"
   ]
  },
  {
   "cell_type": "code",
   "execution_count": 43,
   "metadata": {},
   "outputs": [
    {
     "name": "stdout",
     "output_type": "stream",
     "text": [
      "+------------------+------+-----+-------------+\n",
      "|   equipmentNumber|errors|month|count(errors)|\n",
      "+------------------+------+-----+-------------+\n",
      "|000000000001205837| 00084|    5|            1|\n",
      "|000000000001751400| 00084|    5|            1|\n",
      "|000000000001751400|  null|    5|            1|\n",
      "|000000000001205837| 11040|    5|            2|\n",
      "|000000000000531224| 21050|    5|            2|\n",
      "|000000000000531224| 00084|    5|            2|\n",
      "|000000000001389624| 00084|    5|            2|\n",
      "|000000000001702989| 00084|    5|            3|\n",
      "|000000000001391075| 11040|    5|            6|\n",
      "|000000000001708208| 01542|    5|            7|\n",
      "|000000000000490278|  null|    5|            8|\n",
      "|000000000001708209| 01542|    5|           16|\n",
      "|000000000000591945| 11040|    5|           16|\n",
      "|000000000001391075| 21050|    5|           19|\n",
      "|000000000001702989| 01542|    5|           24|\n",
      "|000000000001486559| 01542|    5|           28|\n",
      "|000000000001391075| 00084|    5|           42|\n",
      "|000000000001389624| 11040|    5|          177|\n",
      "|000000000001391075| 01308|    5|          308|\n",
      "|000000000000933474| 11040|    5|          484|\n",
      "|000000000001792283| 11040|    5|          740|\n",
      "|000000000001391075| 01542|    5|          929|\n",
      "|000000000001751400| 11040|    5|          990|\n",
      "|000000000001751400| 01542|    5|          998|\n",
      "|000000000001792283| 01542|    5|         1194|\n",
      "|000000000000826188| 11038|    5|         1404|\n",
      "|000000000000826188|  null|    5|         2545|\n",
      "|000000000001403113| 01542|    5|         2617|\n",
      "|000000000001751400| 11049|    5|         5780|\n",
      "|000000000000531224| 11040|    5|         5985|\n",
      "|000000000001389624| 11049|    5|         7953|\n",
      "|000000000001389624| 01308|    5|         9637|\n",
      "|000000000001389624| 01542|    5|         9682|\n",
      "|000000000000933474|  null|    5|        10197|\n",
      "|000000000001403113| 11040|    5|        11023|\n",
      "|000000000000591945|  null|    5|        13594|\n",
      "|000000000001205837| 11049|    5|        15027|\n",
      "|000000000000826189|  null|    5|        17495|\n",
      "|000000000001792283|  null|    5|        19137|\n",
      "|000000000000531224|  null|    5|        20302|\n",
      "|000000000001708208|  null|    5|        25182|\n",
      "|000000000001708209| 11040|    5|        36689|\n",
      "|000000000000490278| 10012|    5|        42536|\n",
      "|000000000001391075|  null|    5|        58215|\n",
      "|000000000001486559| 10012|    5|        71627|\n",
      "|000000000001486559| 11040|    5|        71633|\n",
      "|000000000001702989| 10012|    5|        78001|\n",
      "|000000000001702989| 11040|    5|        78005|\n",
      "|000000000000687590|  null|    5|        82498|\n",
      "|000000000001751400| 10012|    5|       146012|\n",
      "|000000000001205837|  null|    5|       177713|\n",
      "|000000000001389624| 01237|    5|       226357|\n",
      "+------------------+------+-----+-------------+\n",
      "\n"
     ]
    }
   ],
   "source": [
    "error_month_5.groupby('equipmentNumber','errors','month').agg({'errors': 'count'}).orderBy(\"count(errors)\").show(100)"
   ]
  },
  {
   "cell_type": "code",
   "execution_count": 56,
   "metadata": {},
   "outputs": [
    {
     "ename": "FileNotFoundError",
     "evalue": "[Errno 2] No such file or directory: 'C:/Users/21a21/Desktop/APC_error_description.xlsx'",
     "output_type": "error",
     "traceback": [
      "\u001b[1;31m---------------------------------------------------------------------------\u001b[0m",
      "\u001b[1;31mFileNotFoundError\u001b[0m                         Traceback (most recent call last)",
      "\u001b[1;32m<ipython-input-56-778fd77caa8b>\u001b[0m in \u001b[0;36m<module>\u001b[1;34m\u001b[0m\n\u001b[0;32m      9\u001b[0m \u001b[1;33m\u001b[0m\u001b[0m\n\u001b[0;32m     10\u001b[0m \u001b[1;32mimport\u001b[0m \u001b[0mpandas\u001b[0m\u001b[1;33m\u001b[0m\u001b[1;33m\u001b[0m\u001b[0m\n\u001b[1;32m---> 11\u001b[1;33m \u001b[0mpdf\u001b[0m \u001b[1;33m=\u001b[0m \u001b[0mpandas\u001b[0m\u001b[1;33m.\u001b[0m\u001b[0mread_excel\u001b[0m\u001b[1;33m(\u001b[0m\u001b[1;34m'C:/Users/21a21/Desktop/APC_error_description.xlsx'\u001b[0m\u001b[1;33m)\u001b[0m\u001b[1;33m\u001b[0m\u001b[1;33m\u001b[0m\u001b[0m\n\u001b[0m\u001b[0;32m     12\u001b[0m \u001b[1;31m#df = spark.createDataFrame(pdf)\u001b[0m\u001b[1;33m\u001b[0m\u001b[1;33m\u001b[0m\u001b[1;33m\u001b[0m\u001b[0m\n",
      "\u001b[1;32mc:\\users\\u21a21\\appdata\\local\\programs\\python\\python36\\lib\\site-packages\\pandas\\util\\_decorators.py\u001b[0m in \u001b[0;36mwrapper\u001b[1;34m(*args, **kwargs)\u001b[0m\n\u001b[0;32m    294\u001b[0m                 )\n\u001b[0;32m    295\u001b[0m                 \u001b[0mwarnings\u001b[0m\u001b[1;33m.\u001b[0m\u001b[0mwarn\u001b[0m\u001b[1;33m(\u001b[0m\u001b[0mmsg\u001b[0m\u001b[1;33m,\u001b[0m \u001b[0mFutureWarning\u001b[0m\u001b[1;33m,\u001b[0m \u001b[0mstacklevel\u001b[0m\u001b[1;33m=\u001b[0m\u001b[0mstacklevel\u001b[0m\u001b[1;33m)\u001b[0m\u001b[1;33m\u001b[0m\u001b[1;33m\u001b[0m\u001b[0m\n\u001b[1;32m--> 296\u001b[1;33m             \u001b[1;32mreturn\u001b[0m \u001b[0mfunc\u001b[0m\u001b[1;33m(\u001b[0m\u001b[1;33m*\u001b[0m\u001b[0margs\u001b[0m\u001b[1;33m,\u001b[0m \u001b[1;33m**\u001b[0m\u001b[0mkwargs\u001b[0m\u001b[1;33m)\u001b[0m\u001b[1;33m\u001b[0m\u001b[1;33m\u001b[0m\u001b[0m\n\u001b[0m\u001b[0;32m    297\u001b[0m \u001b[1;33m\u001b[0m\u001b[0m\n\u001b[0;32m    298\u001b[0m         \u001b[1;32mreturn\u001b[0m \u001b[0mwrapper\u001b[0m\u001b[1;33m\u001b[0m\u001b[1;33m\u001b[0m\u001b[0m\n",
      "\u001b[1;32mc:\\users\\u21a21\\appdata\\local\\programs\\python\\python36\\lib\\site-packages\\pandas\\io\\excel\\_base.py\u001b[0m in \u001b[0;36mread_excel\u001b[1;34m(io, sheet_name, header, names, index_col, usecols, squeeze, dtype, engine, converters, true_values, false_values, skiprows, nrows, na_values, keep_default_na, na_filter, verbose, parse_dates, date_parser, thousands, comment, skipfooter, convert_float, mangle_dupe_cols)\u001b[0m\n\u001b[0;32m    302\u001b[0m \u001b[1;33m\u001b[0m\u001b[0m\n\u001b[0;32m    303\u001b[0m     \u001b[1;32mif\u001b[0m \u001b[1;32mnot\u001b[0m \u001b[0misinstance\u001b[0m\u001b[1;33m(\u001b[0m\u001b[0mio\u001b[0m\u001b[1;33m,\u001b[0m \u001b[0mExcelFile\u001b[0m\u001b[1;33m)\u001b[0m\u001b[1;33m:\u001b[0m\u001b[1;33m\u001b[0m\u001b[1;33m\u001b[0m\u001b[0m\n\u001b[1;32m--> 304\u001b[1;33m         \u001b[0mio\u001b[0m \u001b[1;33m=\u001b[0m \u001b[0mExcelFile\u001b[0m\u001b[1;33m(\u001b[0m\u001b[0mio\u001b[0m\u001b[1;33m,\u001b[0m \u001b[0mengine\u001b[0m\u001b[1;33m=\u001b[0m\u001b[0mengine\u001b[0m\u001b[1;33m)\u001b[0m\u001b[1;33m\u001b[0m\u001b[1;33m\u001b[0m\u001b[0m\n\u001b[0m\u001b[0;32m    305\u001b[0m     \u001b[1;32melif\u001b[0m \u001b[0mengine\u001b[0m \u001b[1;32mand\u001b[0m \u001b[0mengine\u001b[0m \u001b[1;33m!=\u001b[0m \u001b[0mio\u001b[0m\u001b[1;33m.\u001b[0m\u001b[0mengine\u001b[0m\u001b[1;33m:\u001b[0m\u001b[1;33m\u001b[0m\u001b[1;33m\u001b[0m\u001b[0m\n\u001b[0;32m    306\u001b[0m         raise ValueError(\n",
      "\u001b[1;32mc:\\users\\u21a21\\appdata\\local\\programs\\python\\python36\\lib\\site-packages\\pandas\\io\\excel\\_base.py\u001b[0m in \u001b[0;36m__init__\u001b[1;34m(self, path_or_buffer, engine)\u001b[0m\n\u001b[0;32m    865\u001b[0m         \u001b[0mself\u001b[0m\u001b[1;33m.\u001b[0m\u001b[0m_io\u001b[0m \u001b[1;33m=\u001b[0m \u001b[0mstringify_path\u001b[0m\u001b[1;33m(\u001b[0m\u001b[0mpath_or_buffer\u001b[0m\u001b[1;33m)\u001b[0m\u001b[1;33m\u001b[0m\u001b[1;33m\u001b[0m\u001b[0m\n\u001b[0;32m    866\u001b[0m \u001b[1;33m\u001b[0m\u001b[0m\n\u001b[1;32m--> 867\u001b[1;33m         \u001b[0mself\u001b[0m\u001b[1;33m.\u001b[0m\u001b[0m_reader\u001b[0m \u001b[1;33m=\u001b[0m \u001b[0mself\u001b[0m\u001b[1;33m.\u001b[0m\u001b[0m_engines\u001b[0m\u001b[1;33m[\u001b[0m\u001b[0mengine\u001b[0m\u001b[1;33m]\u001b[0m\u001b[1;33m(\u001b[0m\u001b[0mself\u001b[0m\u001b[1;33m.\u001b[0m\u001b[0m_io\u001b[0m\u001b[1;33m)\u001b[0m\u001b[1;33m\u001b[0m\u001b[1;33m\u001b[0m\u001b[0m\n\u001b[0m\u001b[0;32m    868\u001b[0m \u001b[1;33m\u001b[0m\u001b[0m\n\u001b[0;32m    869\u001b[0m     \u001b[1;32mdef\u001b[0m \u001b[0m__fspath__\u001b[0m\u001b[1;33m(\u001b[0m\u001b[0mself\u001b[0m\u001b[1;33m)\u001b[0m\u001b[1;33m:\u001b[0m\u001b[1;33m\u001b[0m\u001b[1;33m\u001b[0m\u001b[0m\n",
      "\u001b[1;32mc:\\users\\u21a21\\appdata\\local\\programs\\python\\python36\\lib\\site-packages\\pandas\\io\\excel\\_xlrd.py\u001b[0m in \u001b[0;36m__init__\u001b[1;34m(self, filepath_or_buffer)\u001b[0m\n\u001b[0;32m     20\u001b[0m         \u001b[0merr_msg\u001b[0m \u001b[1;33m=\u001b[0m \u001b[1;34m\"Install xlrd >= 1.0.0 for Excel support\"\u001b[0m\u001b[1;33m\u001b[0m\u001b[1;33m\u001b[0m\u001b[0m\n\u001b[0;32m     21\u001b[0m         \u001b[0mimport_optional_dependency\u001b[0m\u001b[1;33m(\u001b[0m\u001b[1;34m\"xlrd\"\u001b[0m\u001b[1;33m,\u001b[0m \u001b[0mextra\u001b[0m\u001b[1;33m=\u001b[0m\u001b[0merr_msg\u001b[0m\u001b[1;33m)\u001b[0m\u001b[1;33m\u001b[0m\u001b[1;33m\u001b[0m\u001b[0m\n\u001b[1;32m---> 22\u001b[1;33m         \u001b[0msuper\u001b[0m\u001b[1;33m(\u001b[0m\u001b[1;33m)\u001b[0m\u001b[1;33m.\u001b[0m\u001b[0m__init__\u001b[0m\u001b[1;33m(\u001b[0m\u001b[0mfilepath_or_buffer\u001b[0m\u001b[1;33m)\u001b[0m\u001b[1;33m\u001b[0m\u001b[1;33m\u001b[0m\u001b[0m\n\u001b[0m\u001b[0;32m     23\u001b[0m \u001b[1;33m\u001b[0m\u001b[0m\n\u001b[0;32m     24\u001b[0m     \u001b[1;33m@\u001b[0m\u001b[0mproperty\u001b[0m\u001b[1;33m\u001b[0m\u001b[1;33m\u001b[0m\u001b[0m\n",
      "\u001b[1;32mc:\\users\\u21a21\\appdata\\local\\programs\\python\\python36\\lib\\site-packages\\pandas\\io\\excel\\_base.py\u001b[0m in \u001b[0;36m__init__\u001b[1;34m(self, filepath_or_buffer)\u001b[0m\n\u001b[0;32m    351\u001b[0m             \u001b[0mself\u001b[0m\u001b[1;33m.\u001b[0m\u001b[0mbook\u001b[0m \u001b[1;33m=\u001b[0m \u001b[0mself\u001b[0m\u001b[1;33m.\u001b[0m\u001b[0mload_workbook\u001b[0m\u001b[1;33m(\u001b[0m\u001b[0mfilepath_or_buffer\u001b[0m\u001b[1;33m)\u001b[0m\u001b[1;33m\u001b[0m\u001b[1;33m\u001b[0m\u001b[0m\n\u001b[0;32m    352\u001b[0m         \u001b[1;32melif\u001b[0m \u001b[0misinstance\u001b[0m\u001b[1;33m(\u001b[0m\u001b[0mfilepath_or_buffer\u001b[0m\u001b[1;33m,\u001b[0m \u001b[0mstr\u001b[0m\u001b[1;33m)\u001b[0m\u001b[1;33m:\u001b[0m\u001b[1;33m\u001b[0m\u001b[1;33m\u001b[0m\u001b[0m\n\u001b[1;32m--> 353\u001b[1;33m             \u001b[0mself\u001b[0m\u001b[1;33m.\u001b[0m\u001b[0mbook\u001b[0m \u001b[1;33m=\u001b[0m \u001b[0mself\u001b[0m\u001b[1;33m.\u001b[0m\u001b[0mload_workbook\u001b[0m\u001b[1;33m(\u001b[0m\u001b[0mfilepath_or_buffer\u001b[0m\u001b[1;33m)\u001b[0m\u001b[1;33m\u001b[0m\u001b[1;33m\u001b[0m\u001b[0m\n\u001b[0m\u001b[0;32m    354\u001b[0m         \u001b[1;32melif\u001b[0m \u001b[0misinstance\u001b[0m\u001b[1;33m(\u001b[0m\u001b[0mfilepath_or_buffer\u001b[0m\u001b[1;33m,\u001b[0m \u001b[0mbytes\u001b[0m\u001b[1;33m)\u001b[0m\u001b[1;33m:\u001b[0m\u001b[1;33m\u001b[0m\u001b[1;33m\u001b[0m\u001b[0m\n\u001b[0;32m    355\u001b[0m             \u001b[0mself\u001b[0m\u001b[1;33m.\u001b[0m\u001b[0mbook\u001b[0m \u001b[1;33m=\u001b[0m \u001b[0mself\u001b[0m\u001b[1;33m.\u001b[0m\u001b[0mload_workbook\u001b[0m\u001b[1;33m(\u001b[0m\u001b[0mBytesIO\u001b[0m\u001b[1;33m(\u001b[0m\u001b[0mfilepath_or_buffer\u001b[0m\u001b[1;33m)\u001b[0m\u001b[1;33m)\u001b[0m\u001b[1;33m\u001b[0m\u001b[1;33m\u001b[0m\u001b[0m\n",
      "\u001b[1;32mc:\\users\\u21a21\\appdata\\local\\programs\\python\\python36\\lib\\site-packages\\pandas\\io\\excel\\_xlrd.py\u001b[0m in \u001b[0;36mload_workbook\u001b[1;34m(self, filepath_or_buffer)\u001b[0m\n\u001b[0;32m     35\u001b[0m             \u001b[1;32mreturn\u001b[0m \u001b[0mopen_workbook\u001b[0m\u001b[1;33m(\u001b[0m\u001b[0mfile_contents\u001b[0m\u001b[1;33m=\u001b[0m\u001b[0mdata\u001b[0m\u001b[1;33m)\u001b[0m\u001b[1;33m\u001b[0m\u001b[1;33m\u001b[0m\u001b[0m\n\u001b[0;32m     36\u001b[0m         \u001b[1;32melse\u001b[0m\u001b[1;33m:\u001b[0m\u001b[1;33m\u001b[0m\u001b[1;33m\u001b[0m\u001b[0m\n\u001b[1;32m---> 37\u001b[1;33m             \u001b[1;32mreturn\u001b[0m \u001b[0mopen_workbook\u001b[0m\u001b[1;33m(\u001b[0m\u001b[0mfilepath_or_buffer\u001b[0m\u001b[1;33m)\u001b[0m\u001b[1;33m\u001b[0m\u001b[1;33m\u001b[0m\u001b[0m\n\u001b[0m\u001b[0;32m     38\u001b[0m \u001b[1;33m\u001b[0m\u001b[0m\n\u001b[0;32m     39\u001b[0m     \u001b[1;33m@\u001b[0m\u001b[0mproperty\u001b[0m\u001b[1;33m\u001b[0m\u001b[1;33m\u001b[0m\u001b[0m\n",
      "\u001b[1;32mc:\\users\\u21a21\\appdata\\local\\programs\\python\\python36\\lib\\site-packages\\xlrd\\__init__.py\u001b[0m in \u001b[0;36mopen_workbook\u001b[1;34m(filename, logfile, verbosity, use_mmap, file_contents, encoding_override, formatting_info, on_demand, ragged_rows)\u001b[0m\n\u001b[0;32m    109\u001b[0m     \u001b[1;32melse\u001b[0m\u001b[1;33m:\u001b[0m\u001b[1;33m\u001b[0m\u001b[1;33m\u001b[0m\u001b[0m\n\u001b[0;32m    110\u001b[0m         \u001b[0mfilename\u001b[0m \u001b[1;33m=\u001b[0m \u001b[0mos\u001b[0m\u001b[1;33m.\u001b[0m\u001b[0mpath\u001b[0m\u001b[1;33m.\u001b[0m\u001b[0mexpanduser\u001b[0m\u001b[1;33m(\u001b[0m\u001b[0mfilename\u001b[0m\u001b[1;33m)\u001b[0m\u001b[1;33m\u001b[0m\u001b[1;33m\u001b[0m\u001b[0m\n\u001b[1;32m--> 111\u001b[1;33m         \u001b[1;32mwith\u001b[0m \u001b[0mopen\u001b[0m\u001b[1;33m(\u001b[0m\u001b[0mfilename\u001b[0m\u001b[1;33m,\u001b[0m \u001b[1;34m\"rb\"\u001b[0m\u001b[1;33m)\u001b[0m \u001b[1;32mas\u001b[0m \u001b[0mf\u001b[0m\u001b[1;33m:\u001b[0m\u001b[1;33m\u001b[0m\u001b[1;33m\u001b[0m\u001b[0m\n\u001b[0m\u001b[0;32m    112\u001b[0m             \u001b[0mpeek\u001b[0m \u001b[1;33m=\u001b[0m \u001b[0mf\u001b[0m\u001b[1;33m.\u001b[0m\u001b[0mread\u001b[0m\u001b[1;33m(\u001b[0m\u001b[0mpeeksz\u001b[0m\u001b[1;33m)\u001b[0m\u001b[1;33m\u001b[0m\u001b[1;33m\u001b[0m\u001b[0m\n\u001b[0;32m    113\u001b[0m     \u001b[1;32mif\u001b[0m \u001b[0mpeek\u001b[0m \u001b[1;33m==\u001b[0m \u001b[1;34mb\"PK\\x03\\x04\"\u001b[0m\u001b[1;33m:\u001b[0m \u001b[1;31m# a ZIP file\u001b[0m\u001b[1;33m\u001b[0m\u001b[1;33m\u001b[0m\u001b[0m\n",
      "\u001b[1;31mFileNotFoundError\u001b[0m: [Errno 2] No such file or directory: 'C:/Users/21a21/Desktop/APC_error_description.xlsx'"
     ]
    }
   ],
   "source": [
    "# description = spark.read.format(\"com.crealytics.spark.excel\") \\\n",
    "#     .option(\"useHeader\", \"true\") \\\n",
    "#     .option(\"location\", \"C:/Users/21a21/Desktop/APC_error_description.xlsx\") \\\n",
    "#     .option(\"inferSchema\", \"true\") \\\n",
    "#     .option(\"dataAddress\", \"'Sheet1'!A1\") \\\n",
    "#     .option(\"treatEmptyValuesAsNulls\", \"false\") \\\n",
    "#     .option(\"addColorColumns\", \"false\") \\\n",
    "#     .load(\"file://C:/Users/21a21/Desktop/APC_error_description.xlsx\")\n",
    "\n",
    "import pandas\n",
    "pdf = pandas.read_excel('C:/Users/21a21/Desktop/APC_error_description.xlsx')\n",
    "#df = spark.createDataFrame(pdf)"
   ]
  },
  {
   "cell_type": "code",
   "execution_count": 48,
   "metadata": {},
   "outputs": [
    {
     "name": "stdout",
     "output_type": "stream",
     "text": [
      "+-----------------+-----+----------------+\n",
      "|Z_y_Error        |month|count(Z_y_Error)|\n",
      "+-----------------+-----+----------------+\n",
      "|10012|11040|01542|5    |49              |\n",
      "|01237|01542      |5    |45              |\n",
      "|11049|01237      |5    |7951            |\n",
      "|null             |5    |426887          |\n",
      "|21050|00084      |5    |21              |\n",
      "|01542            |5    |1822            |\n",
      "|10012            |5    |180779          |\n",
      "|11040|01237      |5    |175             |\n",
      "|11040|01308|01542|5    |4               |\n",
      "|11038            |5    |1404            |\n",
      "|00084|01237      |5    |2               |\n",
      "|10012|11040      |5    |150566          |\n",
      "|01308|01542      |5    |304             |\n",
      "|11040            |5    |52315           |\n",
      "|00084            |5    |24              |\n",
      "|10012|11040|00084|5    |3               |\n",
      "|01237|01308|01542|5    |9637            |\n",
      "|10012|11049      |5    |5780            |\n",
      "|10012|01542      |5    |998             |\n",
      "|11040|11049|01237|5    |2               |\n",
      "|10012|00084      |5    |1               |\n",
      "|11049            |5    |15027           |\n",
      "|11040|01542      |5    |2636            |\n",
      "|01237            |5    |208545          |\n",
      "+-----------------+-----+----------------+\n",
      "\n"
     ]
    }
   ],
   "source": [
    "#error_month_5.groupby('Z_y_Error','month').agg({'Z_y_Error': 'count'}).show(30,truncate=False)"
   ]
  },
  {
   "cell_type": "code",
   "execution_count": 59,
   "metadata": {},
   "outputs": [
    {
     "name": "stdout",
     "output_type": "stream",
     "text": [
      "+-----------------+------+\n",
      "|        Z_y_Error|errors|\n",
      "+-----------------+------+\n",
      "|      10012|11040| 10012|\n",
      "|      10012|11040| 11040|\n",
      "|      21050|00084| 21050|\n",
      "|      21050|00084| 00084|\n",
      "|11040|01308|01542| 11040|\n",
      "|11040|01308|01542| 01308|\n",
      "|11040|01308|01542| 01542|\n",
      "|10012|11040|01237| 10012|\n",
      "|10012|11040|01237| 11040|\n",
      "|10012|11040|01237| 01237|\n",
      "|            10012| 10012|\n",
      "|10012|11040|11049| 10012|\n",
      "|10012|11040|11049| 11040|\n",
      "|10012|11040|11049| 11049|\n",
      "|            11049| 11049|\n",
      "|11040|21050|00084| 11040|\n",
      "|11040|21050|00084| 21050|\n",
      "|11040|21050|00084| 00084|\n",
      "|      10012|00084| 10012|\n",
      "|      10012|00084| 00084|\n",
      "+-----------------+------+\n",
      "only showing top 20 rows\n",
      "\n"
     ]
    }
   ],
   "source": [
    "from pyspark.sql.functions import split, explode\n",
    "unique_errors1.withColumn('errors',explode(split('Z_y_Error','\\|'))).show()"
   ]
  },
  {
   "cell_type": "code",
   "execution_count": 62,
   "metadata": {},
   "outputs": [],
   "source": [
    "splitted_errors=final_489.withColumn('errors',explode(split('Z_y_Error','\\|')))"
   ]
  },
  {
   "cell_type": "code",
   "execution_count": 63,
   "metadata": {},
   "outputs": [
    {
     "data": {
      "text/plain": [
       "21"
      ]
     },
     "execution_count": 63,
     "metadata": {},
     "output_type": "execute_result"
    }
   ],
   "source": [
    "splitted_errors.select('errors').distinct().count()"
   ]
  },
  {
   "cell_type": "code",
   "execution_count": 64,
   "metadata": {},
   "outputs": [
    {
     "name": "stdout",
     "output_type": "stream",
     "text": [
      "+------+-------+\n",
      "|errors|count  |\n",
      "+------+-------+\n",
      "|01062 |1      |\n",
      "|01061 |1      |\n",
      "|11087 |1      |\n",
      "|01356 |1      |\n",
      "|21040 |1      |\n",
      "|00110 |1      |\n",
      "|20010 |4      |\n",
      "|21034 |7      |\n",
      "|21050 |77     |\n",
      "|11039 |105    |\n",
      "|11037 |111    |\n",
      "|00084 |379    |\n",
      "|11236 |1697   |\n",
      "|01308 |9945   |\n",
      "|11038 |19468  |\n",
      "|01542 |22831  |\n",
      "|11049 |116644 |\n",
      "|01237 |1138205|\n",
      "|null  |1372839|\n",
      "|10012 |1473608|\n",
      "|11040 |1823440|\n",
      "+------+-------+\n",
      "\n"
     ]
    }
   ],
   "source": [
    "splitted_errors.groupBy('errors').count().orderBy(\"count\").show(30,truncate=False)"
   ]
  },
  {
   "cell_type": "code",
   "execution_count": null,
   "metadata": {},
   "outputs": [],
   "source": []
  }
 ],
 "metadata": {
  "kernelspec": {
   "display_name": "Python 3",
   "language": "python",
   "name": "python3"
  },
  "language_info": {
   "codemirror_mode": {
    "name": "ipython",
    "version": 3
   },
   "file_extension": ".py",
   "mimetype": "text/x-python",
   "name": "python",
   "nbconvert_exporter": "python",
   "pygments_lexer": "ipython3",
   "version": "3.6.8"
  }
 },
 "nbformat": 4,
 "nbformat_minor": 4
}
